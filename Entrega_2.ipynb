{
 "cells": [
  {
   "cell_type": "markdown",
   "source": [
    "#### Importando as bibliotecas necessárias\n",
    "\n"
   ],
   "metadata": {
    "collapsed": false
   }
  },
  {
   "cell_type": "code",
   "execution_count": 1,
   "outputs": [],
   "source": [
    "import pandas as pd\n",
    "import seaborn as sns\n",
    "from matplotlib import pyplot as plt\n",
    "import requests\n",
    "import json\n",
    "from fuzzywuzzy import fuzz\n",
    "import numpy as np"
   ],
   "metadata": {
    "collapsed": false,
    "ExecuteTime": {
     "end_time": "2023-05-27T20:14:37.842001900Z",
     "start_time": "2023-05-27T20:14:34.244544500Z"
    }
   }
  },
  {
   "cell_type": "markdown",
   "source": [
    "#### Lendo o arquivo com os dados"
   ],
   "metadata": {
    "collapsed": false
   }
  },
  {
   "cell_type": "code",
   "execution_count": null,
   "outputs": [],
   "source": [
    "dados = pd.read_excel('./Dados de estudantes da UFV - 2022-12-12.ods')\n",
    "dados"
   ],
   "metadata": {
    "collapsed": false,
    "is_executing": true,
    "ExecuteTime": {
     "start_time": "2023-05-27T20:14:34.691909Z"
    }
   }
  },
  {
   "cell_type": "markdown",
   "source": [
    "#### Verificando as 5 primeiras linhas do DataFrame"
   ],
   "metadata": {
    "collapsed": false
   }
  },
  {
   "cell_type": "code",
   "execution_count": null,
   "outputs": [],
   "source": [
    "dados.head()\n",
    "### Informação sobre o conteúdo dos dados"
   ],
   "metadata": {
    "collapsed": false,
    "is_executing": true
   }
  },
  {
   "cell_type": "code",
   "execution_count": null,
   "outputs": [],
   "source": [
    "dados.info()"
   ],
   "metadata": {
    "collapsed": false,
    "is_executing": true
   }
  },
  {
   "cell_type": "markdown",
   "source": [
    "#### Descrição dos dados"
   ],
   "metadata": {
    "collapsed": false
   }
  },
  {
   "cell_type": "code",
   "execution_count": null,
   "outputs": [],
   "source": [
    "dados.describe()"
   ],
   "metadata": {
    "collapsed": false,
    "is_executing": true
   }
  },
  {
   "cell_type": "markdown",
   "source": [
    "#### Verificando a quantidade de dados nulos em cada coluna"
   ],
   "metadata": {
    "collapsed": false
   }
  },
  {
   "cell_type": "code",
   "execution_count": null,
   "outputs": [],
   "source": [
    "dados.isnull().sum()"
   ],
   "metadata": {
    "collapsed": false,
    "is_executing": true
   }
  },
  {
   "cell_type": "markdown",
   "source": [
    "#### Verificando valores únicos e contagem para cada atributo"
   ],
   "metadata": {
    "collapsed": false
   }
  },
  {
   "cell_type": "code",
   "execution_count": null,
   "outputs": [],
   "source": [
    "for coluna in dados.columns:\n",
    "    print(f\"\\n{coluna}\\nVariedade: {dados[coluna].nunique()}\\nDados: \\n{dados[coluna].value_counts()}\\n\")"
   ],
   "metadata": {
    "collapsed": false,
    "is_executing": true
   }
  },
  {
   "cell_type": "markdown",
   "source": [
    "#### Copiando os dados para um novo DataFrame"
   ],
   "metadata": {
    "collapsed": false
   }
  },
  {
   "cell_type": "code",
   "execution_count": null,
   "outputs": [],
   "source": [
    "df = dados.copy()"
   ],
   "metadata": {
    "collapsed": false,
    "is_executing": true
   }
  },
  {
   "cell_type": "markdown",
   "source": [
    "### Tratamento da coluna 'Ano Nascimento'"
   ],
   "metadata": {
    "collapsed": false
   }
  },
  {
   "cell_type": "markdown",
   "source": [
    "#### Dados da coluna\n",
    "    - Descrição dos dados"
   ],
   "metadata": {
    "collapsed": false
   }
  },
  {
   "cell_type": "code",
   "execution_count": null,
   "outputs": [],
   "source": [
    "df['Ano_Nascimento'].describe()"
   ],
   "metadata": {
    "collapsed": false,
    "is_executing": true
   }
  },
  {
   "cell_type": "markdown",
   "source": [
    "#### Outliers\n",
    "    - Através do gráfico de caixa (boxplot) é possível verificar a presença de outliers"
   ],
   "metadata": {
    "collapsed": false
   }
  },
  {
   "cell_type": "code",
   "execution_count": null,
   "outputs": [],
   "source": [
    "sns.boxplot(x=df['Ano_Nascimento'], color='red')"
   ],
   "metadata": {
    "collapsed": false,
    "is_executing": true
   }
  },
  {
   "cell_type": "markdown",
   "source": [
    "#### Remoção de outliers\n",
    "    - Para a remoção, foi considerado outliers, valores acima de 2005 e abaixo de 1930"
   ],
   "metadata": {
    "collapsed": false
   }
  },
  {
   "cell_type": "code",
   "execution_count": null,
   "outputs": [],
   "source": [
    "print(f\"Quantidade de outliers menores que 1930: {df[df['Ano_Nascimento'] < 1930]['Ano_Nascimento'].count()}\")\n",
    "print(f\"Quantidade de outliers maiores que 2005: {df[df['Ano_Nascimento'] > 2005]['Ano_Nascimento'].count()}\")\n",
    "\n",
    "df = df.drop(df[df['Ano_Nascimento'] < 1930].index)\n",
    "df = df.drop(df[df['Ano_Nascimento'] > 2005].index)\n",
    "print(f\"Outliers removidos!\")\n",
    "\n",
    "sns.boxplot(x=df['Ano_Nascimento'], color='red')"
   ],
   "metadata": {
    "collapsed": false,
    "is_executing": true
   }
  },
  {
   "cell_type": "markdown",
   "source": [
    "#### Valores nulos\n",
    "    - Através da verificação de valores nulos, foi encontrado alguns valores nulos"
   ],
   "metadata": {
    "collapsed": false
   }
  },
  {
   "cell_type": "code",
   "execution_count": null,
   "outputs": [],
   "source": [
    "print(f\"Quantidade de valores nulos: {df['Ano_Nascimento'].isnull().sum()}\")"
   ],
   "metadata": {
    "collapsed": false,
    "is_executing": true
   }
  },
  {
   "cell_type": "markdown",
   "source": [
    "#### Tratamento de valores nulos\n",
    "    - Para o tratamento de valores nulos, foi utilizado a média dos valores da coluna"
   ],
   "metadata": {
    "collapsed": false
   }
  },
  {
   "cell_type": "code",
   "execution_count": null,
   "outputs": [],
   "source": [
    "df['Ano_Nascimento'].fillna(df['Ano_Nascimento'].mean(), inplace=True)\n",
    "print(f\"Quantidade de valores nulos: {df['Ano_Nascimento'].isnull().sum()}\")"
   ],
   "metadata": {
    "collapsed": false,
    "is_executing": true
   }
  },
  {
   "cell_type": "markdown",
   "source": [
    "#### Tipo de dado\n",
    "    - Substuituídos por inteiros"
   ],
   "metadata": {
    "collapsed": false
   }
  },
  {
   "cell_type": "code",
   "execution_count": null,
   "outputs": [],
   "source": [
    "df['Ano_Nascimento'] = df['Ano_Nascimento'].astype(int)"
   ],
   "metadata": {
    "collapsed": false,
    "is_executing": true
   }
  },
  {
   "cell_type": "markdown",
   "source": [
    "#### Distribuição dos dados\n",
    "    - Ideal para uma análise inicial\n"
   ],
   "metadata": {
    "collapsed": false
   }
  },
  {
   "cell_type": "code",
   "execution_count": null,
   "outputs": [],
   "source": [
    "sns.histplot(x=df['Ano_Nascimento'], color='red', kde=True)"
   ],
   "metadata": {
    "collapsed": false,
    "is_executing": true
   }
  },
  {
   "cell_type": "code",
   "execution_count": null,
   "outputs": [],
   "source": [
    "\n",
    "df['Ano_Nascimento'] = df['Ano_Nascimento'].astype(int)"
   ],
   "metadata": {
    "collapsed": false,
    "is_executing": true
   }
  },
  {
   "cell_type": "markdown",
   "source": [
    "### Tratamento da coluna 'Sexo'"
   ],
   "metadata": {
    "collapsed": false
   }
  },
  {
   "cell_type": "markdown",
   "source": [
    "#### Dados da coluna\n",
    "    - Descrição dos dados\n",
    "    - Gráfico de contagem"
   ],
   "metadata": {
    "collapsed": false
   }
  },
  {
   "cell_type": "code",
   "execution_count": null,
   "outputs": [],
   "source": [
    "df['Sexo'].describe()"
   ],
   "metadata": {
    "collapsed": false,
    "is_executing": true
   }
  },
  {
   "cell_type": "code",
   "execution_count": null,
   "outputs": [],
   "source": [
    "df['Sexo'].value_counts()"
   ],
   "metadata": {
    "collapsed": false,
    "is_executing": true
   }
  },
  {
   "cell_type": "code",
   "execution_count": null,
   "outputs": [],
   "source": [
    "sns.countplot(x=df['Sexo'], color='red', data=df, order=df['Sexo'].value_counts().index, orient='v', palette='Set2')"
   ],
   "metadata": {
    "collapsed": false,
    "is_executing": true
   }
  },
  {
   "cell_type": "markdown",
   "source": [
    "#### Valores nulos\n",
    "    - Valores nulos foram inicialmente substituidos por 'N/A"
   ],
   "metadata": {
    "collapsed": false
   }
  },
  {
   "cell_type": "code",
   "execution_count": null,
   "outputs": [],
   "source": [
    "print(f\"Quantidade de valores nulos: {df['Sexo'].isnull().sum()}\")"
   ],
   "metadata": {
    "collapsed": false,
    "is_executing": true
   }
  },
  {
   "cell_type": "code",
   "execution_count": null,
   "outputs": [],
   "source": [
    "df['Sexo'].fillna('N/A', inplace=True)\n",
    "print(f\"Quantidade de valores nulos: {df['Sexo'].isnull().sum()}\")\n",
    "\n",
    "df['Sexo'].value_counts().reset_index().rename(columns={'index': 'Sexo', 'Sexo': 'Quantidade'})"
   ],
   "metadata": {
    "collapsed": false,
    "is_executing": true
   }
  },
  {
   "cell_type": "markdown",
   "source": [
    "### Tratamento da coluna 'Campus'"
   ],
   "metadata": {
    "collapsed": false
   }
  },
  {
   "cell_type": "markdown",
   "source": [
    "#### Desscrição da coluna\n",
    "    - Importante para verificar se possui valores sem sentido ou fora do padrão\n",
    "    - Gráfico de contagem"
   ],
   "metadata": {
    "collapsed": false
   }
  },
  {
   "cell_type": "code",
   "execution_count": null,
   "outputs": [],
   "source": [
    "df['Campus'].describe()"
   ],
   "metadata": {
    "collapsed": false,
    "is_executing": true
   }
  },
  {
   "cell_type": "code",
   "execution_count": null,
   "outputs": [],
   "source": [
    "df['Campus'].value_counts()"
   ],
   "metadata": {
    "collapsed": false,
    "is_executing": true
   }
  },
  {
   "cell_type": "code",
   "execution_count": null,
   "outputs": [],
   "source": [
    "sns.countplot(x=df['Campus'], color='red', data=df, order=df['Campus'].value_counts().index, orient='v', palette='Set2')"
   ],
   "metadata": {
    "collapsed": false,
    "is_executing": true
   }
  },
  {
   "cell_type": "markdown",
   "source": [
    "#### Traamento de valores nulos\n",
    "    - A coluna 'Campus' não possui valores nulos\n"
   ],
   "metadata": {
    "collapsed": false
   }
  },
  {
   "cell_type": "code",
   "execution_count": null,
   "outputs": [],
   "source": [
    "print(f\"Quantidade de valores nulos: {df['Campus'].isnull().sum()}\")"
   ],
   "metadata": {
    "collapsed": false,
    "is_executing": true
   }
  },
  {
   "cell_type": "code",
   "execution_count": null,
   "outputs": [],
   "source": [
    "print(\"A coluna 'Campus' não possui valores nulos!\")"
   ],
   "metadata": {
    "collapsed": false,
    "is_executing": true
   }
  },
  {
   "cell_type": "markdown",
   "source": [
    "### Tratamento da coluna 'Curso_Identificador'"
   ],
   "metadata": {
    "collapsed": false
   }
  },
  {
   "cell_type": "markdown",
   "source": [
    "#### Dados da coluna\n",
    "    - Descrição da coluna\n",
    "    - Gráfico de contagem\n"
   ],
   "metadata": {
    "collapsed": false
   }
  },
  {
   "cell_type": "code",
   "execution_count": null,
   "outputs": [],
   "source": [
    "df['Curso_Identificador'].value_counts().reset_index().rename(columns={'index': 'Curso_Identificador', 'Curso_Identificador': 'Quantidade'})"
   ],
   "metadata": {
    "collapsed": false,
    "is_executing": true
   }
  },
  {
   "cell_type": "code",
   "execution_count": null,
   "outputs": [],
   "source": [
    "ccp = sns.countplot(x=df['Curso_Identificador'], color='red', data=df, order=df['Curso_Identificador'].value_counts().index,orient='v', palette='Set2')\n",
    "ccp.set_xticklabels(ccp.get_xticklabels(), rotation=90)\n",
    "ccp.figure.set_size_inches(20, 10)"
   ],
   "metadata": {
    "collapsed": false,
    "is_executing": true
   }
  },
  {
   "cell_type": "markdown",
   "source": [
    "#### Valores nulos\n",
    "    - Tratamento de valores nulos"
   ],
   "metadata": {
    "collapsed": false
   }
  },
  {
   "cell_type": "code",
   "execution_count": null,
   "outputs": [],
   "source": [
    "qtdCursoIdentificadorNulos = df['Curso_Identificador'].isnull().sum()\n",
    "print(f\"Quantidade de valores nulos: {qtdCursoIdentificadorNulos}\")"
   ],
   "metadata": {
    "collapsed": false,
    "is_executing": true
   }
  },
  {
   "cell_type": "code",
   "execution_count": null,
   "outputs": [],
   "source": [
    "print(\"A coluna 'Curso_Identificador' não possui valores nulos!\")"
   ],
   "metadata": {
    "collapsed": false,
    "is_executing": true
   }
  },
  {
   "cell_type": "markdown",
   "source": [
    "#### Valores irrelevantes\n",
    "    - Tratamento de valores irrelevantes"
   ],
   "metadata": {
    "collapsed": false
   }
  },
  {
   "cell_type": "code",
   "execution_count": null,
   "outputs": [],
   "source": [
    "# Há um curso que possui apenas 1 aluno, então iremos remover esse aluno e o curso\n",
    "\n",
    "df[df['Curso_Identificador'] == 1423]"
   ],
   "metadata": {
    "collapsed": false,
    "is_executing": true
   }
  },
  {
   "cell_type": "code",
   "execution_count": null,
   "outputs": [],
   "source": [
    "df = df.drop(df[df['Curso_Identificador'] == 1423].index)\n",
    "print(\"Curso removido!\")"
   ],
   "metadata": {
    "collapsed": false,
    "is_executing": true
   }
  },
  {
   "cell_type": "markdown",
   "source": [
    "### Tratamento da coluna 'Curso'"
   ],
   "metadata": {
    "collapsed": false
   }
  },
  {
   "cell_type": "markdown",
   "source": [
    "#### Dados da coluna\n",
    "    - Descrição da coluna\n",
    "    - Gráfico de contagem"
   ],
   "metadata": {
    "collapsed": false
   }
  },
  {
   "cell_type": "code",
   "execution_count": null,
   "outputs": [],
   "source": [
    "df['Curso'].describe()"
   ],
   "metadata": {
    "collapsed": false,
    "is_executing": true
   }
  },
  {
   "cell_type": "code",
   "execution_count": null,
   "outputs": [],
   "source": [
    "ccp= sns.countplot(x=df['Curso'], color='red', data=df, order=df['Curso'].value_counts().index, orient='v', palette='Set2')\n",
    "ccp.set_xticklabels(ccp.get_xticklabels(), rotation=90)\n",
    "ccp.figure.set_size_inches(20, 10)"
   ],
   "metadata": {
    "collapsed": false,
    "is_executing": true
   }
  },
  {
   "cell_type": "markdown",
   "source": [
    "#### Nome dos cursos\n",
    "    - Análise dos nomes dos cursos\n",
    "    - Primeiramente foi criado um dicionário com os identificadores dos cursos e seus respectivos nomes para uma análise inicial\n",
    "    - Após a análise inicial, os cursos e a quantidade de alunos por curso foram ordenados por ordem alfabética para facilitar a visualização dos dados\n",
    "    - Por fim, alguns cursos foram tartados, removidos ou renomeados"
   ],
   "metadata": {
    "collapsed": false
   }
  },
  {
   "cell_type": "code",
   "execution_count": null,
   "outputs": [],
   "source": [
    "dict(zip(df['Curso_Identificador'], df['Curso']))"
   ],
   "metadata": {
    "collapsed": false,
    "is_executing": true
   }
  },
  {
   "cell_type": "code",
   "execution_count": null,
   "outputs": [],
   "source": [
    "df['Curso'].value_counts().sort_index().reset_index().rename(columns={'index': 'Curso', 'Curso': 'Quantidade'})"
   ],
   "metadata": {
    "collapsed": false,
    "is_executing": true
   }
  },
  {
   "cell_type": "code",
   "execution_count": null,
   "outputs": [],
   "source": [
    "# Há um curso com nome CAV - Biologia com apenas 1 aluno, então iremos remover esse aluno e o curso\n",
    "df.drop(df[df['Curso'] == 'CAV - Biologia'].index, inplace=True)\n",
    "\n",
    "# Há um curso com nome CAV - LETRAS com apenas 10 alunos, então iremos remover esse curso\n",
    "df.drop(df[df['Curso'] == 'CAV - LETRAS'].index, inplace=True)\n",
    "\n",
    "# Há um curso com nome CAV - Administração - Habilitação em Administração de Cooperativas com apenas 35 alunos, então iremos remover esse curso\n",
    "df.drop(df[df['Curso'] == 'CAV - Administração - Habilitação em Administração de Cooperativas'].index, inplace=True)\n",
    "\n",
    "#susbtituindo nome dos cursos que tem identificador: 3104 por 'CRP - Sistema de Informação - Integral'\n",
    "df.loc[df['Curso_Identificador'] == 3104, 'Curso'] = 'CRP - Sistema de Informação - Integral'\n",
    "\n",
    "#susbtituindo nome dos cursos que tem identificador: 3105 por 'CRP - Sistema de Informação - Noturno'\n",
    "df.loc[df['Curso_Identificador'] == 3105, 'Curso'] = 'CRP - Sistema de Informação - Noturno'"
   ],
   "metadata": {
    "collapsed": false,
    "is_executing": true
   }
  },
  {
   "cell_type": "code",
   "execution_count": null,
   "outputs": [],
   "source": [
    "ccp = sns.countplot(x=df['Curso'], color='red', data=df, order=df['Curso'].value_counts().index, orient='v', palette='Set2')\n",
    "ccp.set_xticklabels(ccp.get_xticklabels(), rotation=90)\n",
    "ccp.figure.set_size_inches(20, 10)"
   ],
   "metadata": {
    "collapsed": false,
    "is_executing": true
   }
  },
  {
   "cell_type": "markdown",
   "source": [
    "#### Valores nulos\n",
    "    - Tratamento de valores nulos"
   ],
   "metadata": {
    "collapsed": false
   }
  },
  {
   "cell_type": "code",
   "execution_count": null,
   "outputs": [],
   "source": [
    "print(f\"Quantidade de valores nulos: {df['Curso'].isnull().sum()}\")"
   ],
   "metadata": {
    "collapsed": false,
    "is_executing": true
   }
  },
  {
   "cell_type": "code",
   "execution_count": null,
   "outputs": [],
   "source": [
    "print(\"A coluna 'Curso' não possui valores nulos!\")"
   ],
   "metadata": {
    "collapsed": false,
    "is_executing": true
   }
  },
  {
   "cell_type": "markdown",
   "source": [
    "### Tratamento da coluna 'UF_Nascimento'"
   ],
   "metadata": {
    "collapsed": false
   }
  },
  {
   "cell_type": "markdown",
   "source": [
    "#### Dados da coluna\n",
    "    - Descrição da coluna\n",
    "    - Gráfico de contagem"
   ],
   "metadata": {
    "collapsed": false
   }
  },
  {
   "cell_type": "code",
   "execution_count": null,
   "outputs": [],
   "source": [
    "df['UF_Nascimento'].value_counts().reset_index().rename(columns={'index': 'UF_Nascimento', 'UF_Nascimento': 'Quantidade'})"
   ],
   "metadata": {
    "collapsed": false,
    "is_executing": true
   }
  },
  {
   "cell_type": "code",
   "execution_count": null,
   "outputs": [],
   "source": [
    "ucp = sns.countplot(x=df['UF_Nascimento'], color='red', data=df, order=df['UF_Nascimento'].value_counts().index, orient='v', palette='Set2')\n",
    "ucp.set_xticklabels(ucp.get_xticklabels(), rotation=90)\n",
    "ucp.figure.set_size_inches(20, 10)\n",
    "ucp.set_yscale('log')"
   ],
   "metadata": {
    "collapsed": false,
    "is_executing": true
   }
  },
  {
   "cell_type": "markdown",
   "source": [
    "#### Valores nulos\n",
    "    - Tratamento de valores nulos"
   ],
   "metadata": {
    "collapsed": false
   }
  },
  {
   "cell_type": "code",
   "execution_count": null,
   "outputs": [],
   "source": [
    "df[df['UF_Nascimento'].isnull()]"
   ],
   "metadata": {
    "collapsed": false,
    "is_executing": true
   }
  },
  {
   "cell_type": "markdown",
   "source": [
    "##### Foi verificado que os alunos que não possuem UF de nascimento são alunos estrangeiros ou que não informaram o município de nascimento\n",
    "##### Serão excluídos"
   ],
   "metadata": {
    "collapsed": false
   }
  },
  {
   "cell_type": "code",
   "execution_count": null,
   "outputs": [],
   "source": [
    "df.drop(df[df['UF_Nascimento'].isnull()].index, inplace=True)"
   ],
   "metadata": {
    "collapsed": false,
    "is_executing": true
   }
  },
  {
   "cell_type": "markdown",
   "source": [
    "#### Valores irrelevantes\n",
    "    - Tratamento de valores irrelevantes\n"
   ],
   "metadata": {
    "collapsed": false
   }
  },
  {
   "cell_type": "code",
   "execution_count": null,
   "outputs": [],
   "source": [
    "df['UF_Nascimento'].value_counts().reset_index().rename(columns={'index': 'UF_Nascimento', 'UF_Nascimento': 'Quantidade'}).query('Quantidade < 12')"
   ],
   "metadata": {
    "collapsed": false,
    "is_executing": true
   }
  },
  {
   "cell_type": "code",
   "execution_count": null,
   "outputs": [],
   "source": [
    "df[df['UF_Nascimento'].map(df['UF_Nascimento'].value_counts()) == 3]"
   ],
   "metadata": {
    "collapsed": false,
    "is_executing": true
   }
  },
  {
   "cell_type": "markdown",
   "source": [
    "##### Foi verificado que alguns alunos possuem UF de nascimento vazio, estas colunas serão excluídas"
   ],
   "metadata": {
    "collapsed": false
   }
  },
  {
   "cell_type": "code",
   "execution_count": null,
   "outputs": [],
   "source": [
    "df = df[~df['UF_Nascimento'].isin(df['UF_Nascimento'].value_counts()[df['UF_Nascimento'].value_counts() == 3].index)]\n",
    "\n",
    "ucp = sns.countplot(x=df['UF_Nascimento'], color='red', data=df, order=df['UF_Nascimento'].value_counts().index, orient='v', palette='Set2')\n",
    "ucp.set_xticklabels(ucp.get_xticklabels(), rotation=90)\n",
    "ucp.figure.set_size_inches(20, 10)\n",
    "ucp.set_yscale('log')"
   ],
   "metadata": {
    "collapsed": false,
    "is_executing": true
   }
  },
  {
   "cell_type": "markdown",
   "source": [
    "### Tratamento da coluna 'Municipio_Nascimento'"
   ],
   "metadata": {
    "collapsed": false
   }
  },
  {
   "cell_type": "markdown",
   "source": [
    "#### Dados da coluna\n",
    "    - Descrição da coluna"
   ],
   "metadata": {
    "collapsed": false
   }
  },
  {
   "cell_type": "code",
   "execution_count": null,
   "outputs": [],
   "source": [
    "df['Municipio_Nascimento'].value_counts().reset_index().rename(columns={'index': 'Municipio_Nascimento', 'Municipio_Nascimento': 'Quantidade'})"
   ],
   "metadata": {
    "collapsed": false,
    "is_executing": true
   }
  },
  {
   "cell_type": "markdown",
   "source": [
    "#### Valores nulos\n",
    "    - Tratamento de valores nulos"
   ],
   "metadata": {
    "collapsed": false
   }
  },
  {
   "cell_type": "code",
   "execution_count": null,
   "outputs": [],
   "source": [
    "print(f\"Quantidade de valores nulos: {df['Municipio_Nascimento'].isnull().sum()}\")"
   ],
   "metadata": {
    "collapsed": false,
    "is_executing": true
   }
  },
  {
   "cell_type": "code",
   "execution_count": null,
   "outputs": [],
   "source": [
    "df['Municipio_Nascimento'].fillna('N/A', inplace=True)\n",
    "print(f\"Quantidade de valores nulos: {df['Municipio_Nascimento'].isnull().sum()}\")"
   ],
   "metadata": {
    "collapsed": false,
    "is_executing": true
   }
  },
  {
   "cell_type": "markdown",
   "source": [
    "#### Tipo de dado\n",
    "    - Transformando o tipo de dado para string"
   ],
   "metadata": {
    "collapsed": false
   }
  },
  {
   "cell_type": "code",
   "execution_count": null,
   "outputs": [],
   "source": [
    "df['Municipio_Nascimento'] = df['Municipio_Nascimento'].astype(str)"
   ],
   "metadata": {
    "collapsed": false,
    "is_executing": true
   }
  },
  {
   "cell_type": "markdown",
   "source": [
    "#### Nome dos municipios\n",
    "    - Tratamento de nomes de municipios"
   ],
   "metadata": {
    "collapsed": false
   }
  },
  {
   "cell_type": "markdown",
   "source": [
    "***Removendo os espaços em branco no início e no fim de cada nome de municipio***"
   ],
   "metadata": {
    "collapsed": false
   }
  },
  {
   "cell_type": "code",
   "execution_count": null,
   "outputs": [],
   "source": [
    "df['Municipio_Nascimento'] = df['Municipio_Nascimento'].str.strip()"
   ],
   "metadata": {
    "collapsed": false,
    "is_executing": true
   }
  },
  {
   "cell_type": "markdown",
   "source": [
    "***Removendo os espaços em branco duplicados no meio de cada nome de municipio***"
   ],
   "metadata": {
    "collapsed": false
   }
  },
  {
   "cell_type": "code",
   "execution_count": null,
   "outputs": [],
   "source": [
    "df['Municipio_Nascimento'] = df['Municipio_Nascimento'].str.replace(' +', ' ', regex=True)"
   ],
   "metadata": {
    "collapsed": false,
    "is_executing": true
   }
  },
  {
   "cell_type": "markdown",
   "source": [
    "***Municipios que estão em uppercase serão colocados em lower-case, com exceção da suas iniciais***"
   ],
   "metadata": {
    "collapsed": false
   }
  },
  {
   "cell_type": "code",
   "execution_count": null,
   "outputs": [],
   "source": [
    "if df['Municipio_Nascimento'].str.isupper().any():\n",
    "    df['Municipio_Nascimento'] = df['Municipio_Nascimento'].str.lower()\n",
    "    df['Municipio_Nascimento'] = df['Municipio_Nascimento'].str.title()"
   ],
   "metadata": {
    "collapsed": false,
    "is_executing": true
   }
  },
  {
   "cell_type": "code",
   "execution_count": null,
   "outputs": [],
   "source": [],
   "metadata": {
    "collapsed": false,
    "is_executing": true
   }
  },
  {
   "cell_type": "markdown",
   "source": [
    "***Colocando todas as cidades em uma lista***"
   ],
   "metadata": {
    "collapsed": false
   }
  },
  {
   "cell_type": "code",
   "execution_count": null,
   "outputs": [],
   "source": [
    "munUFV = df['Municipio_Nascimento'].unique().tolist()\n",
    "len(munUFV)"
   ],
   "metadata": {
    "collapsed": false,
    "is_executing": true
   }
  },
  {
   "cell_type": "markdown",
   "source": [
    "***Lista de municípios do IBGE - Tratamento***"
   ],
   "metadata": {
    "collapsed": false
   }
  },
  {
   "cell_type": "code",
   "execution_count": null,
   "outputs": [],
   "source": [
    "url = 'https://servicodados.ibge.gov.br/api/v1/localidades/municipios'\n",
    "r = requests.get(url)\n",
    "munExistente = json.loads(r.text)\n",
    "munExistente = [municipio['nome'] for municipio in munExistente]\n",
    "munExistente"
   ],
   "metadata": {
    "collapsed": false,
    "is_executing": true
   }
  },
  {
   "cell_type": "markdown",
   "source": [
    "***Verificando se os municípios existem na realidade***"
   ],
   "metadata": {
    "collapsed": false
   }
  },
  {
   "cell_type": "code",
   "execution_count": null,
   "outputs": [],
   "source": [
    "munNaoExistente = []\n",
    "for municipio in munUFV:\n",
    "    if municipio not in munExistente:\n",
    "        munNaoExistente.append(municipio)\n",
    "print(f'Quantidade de municípios que não estão na lista do IBGE: {len(munNaoExistente)}')"
   ],
   "metadata": {
    "collapsed": false,
    "is_executing": true
   }
  },
  {
   "cell_type": "markdown",
   "source": [
    "***Tratamento dos possíveis municipios que não existem. Similaridades acima de 90 entre os municipios que não existem e os municipios do IBGE***\n",
    "***usando a biblioteca fuzzywuzzy, serão substituídos***"
   ],
   "metadata": {
    "collapsed": false
   }
  },
  {
   "cell_type": "code",
   "execution_count": null,
   "outputs": [],
   "source": [
    "munSim = []\n",
    "\n",
    "for municipio in munNaoExistente:\n",
    "    for municipioIBGE in munExistente:\n",
    "        if fuzz.ratio(municipio, municipioIBGE) > 90:\n",
    "            munSim.append((municipio, municipioIBGE))\n",
    "print(f'Quantidade de municípios que não estão na lista do IBGE: {len(munSim)}')"
   ],
   "metadata": {
    "collapsed": false,
    "is_executing": true
   }
  },
  {
   "cell_type": "markdown",
   "source": [
    "***Usando similaridades para substituir os municipios que não existem para os municipios do IBGE***"
   ],
   "metadata": {
    "collapsed": false
   }
  },
  {
   "cell_type": "code",
   "execution_count": null,
   "outputs": [],
   "source": [
    "for municipio in munSim:\n",
    "    df['Municipio_Nascimento'] = df['Municipio_Nascimento'].str.replace(municipio[0], municipio[1])"
   ],
   "metadata": {
    "collapsed": false,
    "is_executing": true
   }
  },
  {
   "cell_type": "code",
   "execution_count": null,
   "outputs": [],
   "source": [
    "for municipio in munSim:\n",
    "    if municipio[0] in munNaoExistente:\n",
    "        munNaoExistente.remove(municipio[0])\n",
    "print(f'Quantidade de municípios que não estão na lista do IBGE: {len(munNaoExistente)}')"
   ],
   "metadata": {
    "collapsed": false,
    "is_executing": true
   }
  },
  {
   "cell_type": "markdown",
   "source": [
    "***O restante dos municipios que não existem serão excluídos, pois não possuem similaridades com os municipios do IBGE ou são de outros países***"
   ],
   "metadata": {
    "collapsed": false
   }
  },
  {
   "cell_type": "code",
   "execution_count": null,
   "outputs": [],
   "source": [
    "for municipio in munNaoExistente:\n",
    "    df.drop(df[df['Municipio_Nascimento'] == municipio].index, inplace=True)"
   ],
   "metadata": {
    "collapsed": false,
    "is_executing": true
   }
  },
  {
   "cell_type": "code",
   "execution_count": null,
   "outputs": [],
   "source": [
    "df['Municipio_Nascimento'].value_counts()"
   ],
   "metadata": {
    "collapsed": false,
    "is_executing": true
   }
  },
  {
   "cell_type": "code",
   "execution_count": null,
   "outputs": [],
   "source": [
    "mun10 = df['Municipio_Nascimento'].value_counts().nlargest(10)\n",
    "\n",
    "sns.barplot(x=mun10.index, y=mun10.values, palette='Set2')\n",
    "plt.xticks(rotation=90)\n",
    "plt.title('Top 10 Municípios de Nascimento')\n",
    "plt.show()"
   ],
   "metadata": {
    "collapsed": false,
    "is_executing": true
   }
  },
  {
   "cell_type": "markdown",
   "source": [
    "### Tratamento da coluna 'Admissao'"
   ],
   "metadata": {
    "collapsed": false
   }
  },
  {
   "cell_type": "markdown",
   "source": [
    "#### Dados da coluna\n",
    "    - Tipo e quantidade de dados"
   ],
   "metadata": {
    "collapsed": false
   }
  },
  {
   "cell_type": "code",
   "execution_count": null,
   "outputs": [],
   "source": [
    "print(\"Tipo de dado: \", df['Admissao'].dtype)\n",
    "print(\"Quantidade de dados: \", df['Admissao'].shape[0])"
   ],
   "metadata": {
    "collapsed": false,
    "is_executing": true
   }
  },
  {
   "cell_type": "markdown",
   "source": [
    "#### Valores nulos\n",
    "    - Tratamento de valores nulos"
   ],
   "metadata": {
    "collapsed": false
   }
  },
  {
   "cell_type": "code",
   "execution_count": null,
   "outputs": [],
   "source": [
    "print(f\"Quantidade de valores nulos: {df['Admissao'].isnull().sum()}\")"
   ],
   "metadata": {
    "collapsed": false,
    "is_executing": true
   }
  },
  {
   "cell_type": "markdown",
   "source": [
    "#### Tratamento\n",
    "    - Valores inválidos"
   ],
   "metadata": {
    "collapsed": false
   }
  },
  {
   "cell_type": "markdown",
   "source": [
    "##### Algumas admissões são inválidas. As que posssuem valores 0 no campo MM serão substituídas por 01 (YYYY/00 --> YYYY/01)"
   ],
   "metadata": {
    "collapsed": false
   }
  },
  {
   "cell_type": "code",
   "execution_count": null,
   "outputs": [],
   "source": [
    "df['Admissao'] = df['Admissao'].str.replace('/0', '/1')\n",
    "df['Admissao'].value_counts()"
   ],
   "metadata": {
    "collapsed": false,
    "is_executing": true
   }
  },
  {
   "cell_type": "markdown",
   "source": [
    "#### Visualização\n",
    "    - Histograma\n",
    "    - Mais admissões"
   ],
   "metadata": {
    "collapsed": false
   }
  },
  {
   "cell_type": "code",
   "execution_count": null,
   "outputs": [],
   "source": [
    "ahp = sns.histplot(x=df['Admissao'], color='red', data=df, bins=20, kde=True)\n",
    "ahp.set_xticklabels(ahp.get_xticklabels(), rotation=90)\n",
    "ahp.figure.set_size_inches(15, 10)\n",
    "plt.title('Admissões')\n",
    "plt.show()"
   ],
   "metadata": {
    "collapsed": false,
    "is_executing": true
   }
  },
  {
   "cell_type": "markdown",
   "source": [],
   "metadata": {
    "collapsed": false
   }
  },
  {
   "cell_type": "code",
   "execution_count": null,
   "outputs": [],
   "source": [
    "df['Admissao'].value_counts().reset_index().rename(columns={'index': 'Admissao', 'Admissao': 'Quantidade'})"
   ],
   "metadata": {
    "collapsed": false,
    "is_executing": true
   }
  },
  {
   "cell_type": "markdown",
   "source": [
    "### Tratamento da coluna 'Saida'"
   ],
   "metadata": {
    "collapsed": false
   }
  },
  {
   "cell_type": "markdown",
   "source": [
    "#### Dados da coluna\n",
    "    - Tipo e quantidade de dados"
   ],
   "metadata": {
    "collapsed": false
   }
  },
  {
   "cell_type": "code",
   "execution_count": null,
   "outputs": [],
   "source": [
    "print(\"Tipo de dado: \", df['Saida'].dtype)\n",
    "print(\"Quantidade de dados: \", df['Saida'].shape[0])\n",
    "df['Saida'].value_counts()"
   ],
   "metadata": {
    "collapsed": false,
    "is_executing": true
   }
  },
  {
   "cell_type": "markdown",
   "source": [
    "#### Valores nulos\n",
    "    - Tratamento de valores nulos"
   ],
   "metadata": {
    "collapsed": false
   }
  },
  {
   "cell_type": "code",
   "execution_count": null,
   "outputs": [],
   "source": [
    "print(f\"Quantidade de valores nulos: {df['Saida'].isnull().sum()}\")"
   ],
   "metadata": {
    "collapsed": false,
    "is_executing": true
   }
  },
  {
   "cell_type": "markdown",
   "source": [
    "#### Tratamento\n",
    "    - Valores inválidos"
   ],
   "metadata": {
    "collapsed": false
   }
  },
  {
   "cell_type": "markdown",
   "source": [
    "##### Algumas saídas são inválidas. As que posssuem valores 0 no campo MM serão substituídas por 01 (YYYY/00 --> YYYY/01)\n",
    "##### A que possui 0, será substituída por 'CURSANDO', pois o aluno ainda está cursando"
   ],
   "metadata": {
    "collapsed": false
   }
  },
  {
   "cell_type": "code",
   "execution_count": null,
   "outputs": [],
   "source": [
    "df['Saida'] = df['Saida'].replace(0, 'CURSANDO')\n",
    "df['Saida'] = df['Saida'].str.replace('/0', '/1')"
   ],
   "metadata": {
    "collapsed": false,
    "is_executing": true
   }
  },
  {
   "cell_type": "code",
   "execution_count": null,
   "outputs": [],
   "source": [
    "df['Saida'].value_counts().reset_index().rename(columns={'index': 'Saida', 'Saida': 'Quantidade'})"
   ],
   "metadata": {
    "collapsed": false,
    "is_executing": true
   }
  },
  {
   "cell_type": "markdown",
   "source": [
    "### Visualização\n",
    "    - Histograma\n",
    "    - Mais saídas"
   ],
   "metadata": {
    "collapsed": false
   }
  },
  {
   "cell_type": "code",
   "execution_count": null,
   "outputs": [],
   "source": [
    "shp = sns.histplot(x=df['Saida'], color='red', data=df, bins=20, kde=True)\n",
    "shp.set_xticklabels(shp.get_xticklabels(), rotation=90)\n",
    "shp.figure.set_size_inches(15, 10)\n",
    "plt.title('Saídas')\n",
    "plt.show()"
   ],
   "metadata": {
    "collapsed": false,
    "is_executing": true
   }
  },
  {
   "cell_type": "code",
   "execution_count": null,
   "outputs": [],
   "source": [
    "df['Saida'].value_counts().reset_index().rename(columns={'index': 'Saida', 'Saida': 'Quantidade'})"
   ],
   "metadata": {
    "collapsed": false,
    "is_executing": true
   }
  },
  {
   "cell_type": "markdown",
   "source": [
    "### Tratamento da coluna 'Codigo_Situacao_Aluno'"
   ],
   "metadata": {
    "collapsed": false
   }
  },
  {
   "cell_type": "markdown",
   "source": [
    "#### Dados da coluna\n",
    "    - Valores únicos\n",
    "    - Agrpados com Situação do Aluno"
   ],
   "metadata": {
    "collapsed": false
   }
  },
  {
   "cell_type": "code",
   "execution_count": null,
   "outputs": [],
   "source": [
    "print(\"Valores únicos: \", df['Codigo_Situacao_Aluno'].unique())\n",
    "print(\"Quantidade de valores únicos: \", df['Codigo_Situacao_Aluno'].nunique())"
   ],
   "metadata": {
    "collapsed": false,
    "is_executing": true
   }
  },
  {
   "cell_type": "code",
   "execution_count": null,
   "outputs": [],
   "source": [
    "df.groupby(['Codigo_Situacao_Aluno', 'Situacao_Aluno']).size().reset_index().rename(columns={0: 'Quantidade'})"
   ],
   "metadata": {
    "collapsed": false,
    "is_executing": true
   }
  },
  {
   "cell_type": "markdown",
   "source": [
    "#### Valores nulos\n",
    "    - Tratamento de valores nulos"
   ],
   "metadata": {
    "collapsed": false
   }
  },
  {
   "cell_type": "code",
   "execution_count": null,
   "outputs": [],
   "source": [
    "print(f\"Quantidade de valores nulos: {df['Codigo_Situacao_Aluno'].isnull().sum()}\")"
   ],
   "metadata": {
    "collapsed": false,
    "is_executing": true
   }
  },
  {
   "cell_type": "markdown",
   "source": [
    "#### Tratamento\n",
    "    - Valores repetidos\n",
    "    - Remoção de colunas"
   ],
   "metadata": {
    "collapsed": false
   }
  },
  {
   "cell_type": "code",
   "execution_count": null,
   "outputs": [],
   "source": [
    "# Código: A --> Situação: Abandono\n",
    "\n",
    "df.loc[df['Codigo_Situacao_Aluno'] == 'A', 'Situacao_Aluno'] = 'Abandono'\n",
    "\n",
    "# Código: B --> Situação: Conclusão (Não Colou Grau)\n",
    "\n",
    "df.loc[df['Codigo_Situacao_Aluno'] == 'B', 'Situacao_Aluno'] = 'Conclusão/Não Colou Grau'\n",
    "\n",
    "# Código: Z --> Situação: Trancamento por Motivo de Saúde\n",
    "\n",
    "df.loc[df['Codigo_Situacao_Aluno'] == 'Z', 'Situacao_Aluno'] = 'Trancamento por Motivo de Saúde'\n",
    "\n",
    "df.groupby(['Codigo_Situacao_Aluno', 'Situacao_Aluno']).size().reset_index().rename(columns={0: 'Quantidade'})"
   ],
   "metadata": {
    "collapsed": false,
    "is_executing": true
   }
  },
  {
   "cell_type": "markdown",
   "source": [
    "##### Situações que possuem menos de 8 alunos serão excluídas, pois não possuem relevância para a análise"
   ],
   "metadata": {
    "collapsed": false
   }
  },
  {
   "cell_type": "code",
   "execution_count": null,
   "outputs": [],
   "source": [
    "situacaoAluno = df['Situacao_Aluno'].value_counts().reset_index().rename(columns={'index': 'Situacao_Aluno', 'Situacao_Aluno': 'Quantidade'})\n",
    "situacaoAluno = situacaoAluno[situacaoAluno['Quantidade'] >= 8]\n",
    "situacaoAluno"
   ],
   "metadata": {
    "collapsed": false,
    "is_executing": true
   }
  },
  {
   "cell_type": "code",
   "execution_count": null,
   "outputs": [],
   "source": [
    "df.drop(df[~df['Situacao_Aluno'].isin(situacaoAluno['Situacao_Aluno'])].index, inplace=True)"
   ],
   "metadata": {
    "collapsed": false,
    "is_executing": true
   }
  },
  {
   "cell_type": "code",
   "execution_count": null,
   "outputs": [],
   "source": [
    "df.groupby(['Codigo_Situacao_Aluno', 'Situacao_Aluno']).size().reset_index().rename(columns={0: 'Quantidade'})"
   ],
   "metadata": {
    "collapsed": false,
    "is_executing": true
   }
  },
  {
   "cell_type": "markdown",
   "source": [
    "#### Visualização\n",
    "    - Gráfico de Contagem"
   ],
   "metadata": {
    "collapsed": false
   }
  },
  {
   "cell_type": "code",
   "execution_count": null,
   "outputs": [],
   "source": [
    "sns.set_palette(\"Blues\")\n",
    "sns.countplot(x='Codigo_Situacao_Aluno', data=df, order=df['Codigo_Situacao_Aluno'].value_counts().index)\n",
    "plt.title('Situação do Aluno')\n",
    "plt.yscale('log')\n",
    "plt.show()"
   ],
   "metadata": {
    "collapsed": false,
    "is_executing": true
   }
  },
  {
   "cell_type": "markdown",
   "source": [
    "### Tratamento da coluna 'Situacao_Aluno'"
   ],
   "metadata": {
    "collapsed": false
   }
  },
  {
   "cell_type": "markdown",
   "source": [
    "#### Dados da coluna\n",
    "    - Valores únicos\n"
   ],
   "metadata": {
    "collapsed": false
   }
  },
  {
   "cell_type": "code",
   "execution_count": null,
   "outputs": [],
   "source": [
    "print(\"Valores únicos: \", df['Situacao_Aluno'].unique())"
   ],
   "metadata": {
    "collapsed": false,
    "is_executing": true
   }
  },
  {
   "cell_type": "markdown",
   "source": [
    "#### Valores nulos\n",
    "    - Tratamento de valores nulos"
   ],
   "metadata": {
    "collapsed": false
   }
  },
  {
   "cell_type": "code",
   "execution_count": null,
   "outputs": [],
   "source": [
    "print(f\"Quantidade de valores nulos: {df['Situacao_Aluno'].isnull().sum()}\")"
   ],
   "metadata": {
    "collapsed": false,
    "is_executing": true
   }
  },
  {
   "cell_type": "markdown",
   "source": [
    "#### Tratamento\n",
    "    - Remoção de espaços vazios"
   ],
   "metadata": {
    "collapsed": false
   }
  },
  {
   "cell_type": "code",
   "execution_count": null,
   "outputs": [],
   "source": [
    "df['Situacao_Aluno'] = df['Situacao_Aluno'].str.strip()\n",
    "df['Situacao_Aluno'].value_counts().reset_index().rename(columns={'index': 'Situacao_Aluno', 'Situacao_Aluno': 'Quantidade'})"
   ],
   "metadata": {
    "collapsed": false,
    "is_executing": true
   }
  },
  {
   "cell_type": "markdown",
   "source": [
    "#### Visualização\n",
    "    - Gráfico de Contagem"
   ],
   "metadata": {
    "collapsed": false
   }
  },
  {
   "cell_type": "code",
   "execution_count": null,
   "outputs": [],
   "source": [
    "scp = sns.countplot(x='Situacao_Aluno', data=df, order=df['Situacao_Aluno'].value_counts().index)\n",
    "scp.set_xticklabels(scp.get_xticklabels(), rotation=90)\n",
    "scp.figure.set_size_inches(10, 6)\n",
    "plt.title('Situação do Aluno')\n",
    "plt.yscale('log')\n",
    "plt.show()\n",
    "\n"
   ],
   "metadata": {
    "collapsed": false,
    "is_executing": true
   }
  },
  {
   "cell_type": "markdown",
   "source": [
    "### Tratamento da coluna 'Situacao_Aluno_Agrupada'"
   ],
   "metadata": {
    "collapsed": false
   }
  },
  {
   "cell_type": "markdown",
   "source": [
    "#### Dados da coluna\n",
    "    - Valores únicos\n"
   ],
   "metadata": {
    "collapsed": false
   }
  },
  {
   "cell_type": "code",
   "execution_count": null,
   "outputs": [],
   "source": [
    "print(\"Valores únicos: \", df['Situacao_Aluno_Agrupada'].unique())"
   ],
   "metadata": {
    "collapsed": false,
    "is_executing": true
   }
  },
  {
   "cell_type": "markdown",
   "source": [
    "#### Valores nulos\n",
    "    - Tratamento de valores nulos"
   ],
   "metadata": {
    "collapsed": false
   }
  },
  {
   "cell_type": "code",
   "execution_count": null,
   "outputs": [],
   "source": [
    "print(f\"Quantidade de valores nulos: {df['Situacao_Aluno_Agrupada'].isnull().sum()}\")"
   ],
   "metadata": {
    "collapsed": false,
    "is_executing": true
   }
  },
  {
   "cell_type": "code",
   "execution_count": null,
   "outputs": [],
   "source": [
    "df['Situacao_Aluno_Agrupada'].value_counts().reset_index().rename(columns={'index': 'Situacao_Aluno_Agrupada', 'Situacao_Aluno_Agrupada': 'Quantidade'})"
   ],
   "metadata": {
    "collapsed": false,
    "is_executing": true
   }
  },
  {
   "cell_type": "markdown",
   "source": [
    "#### Visualização\n",
    "    - Gráfico de Contagem"
   ],
   "metadata": {
    "collapsed": false
   }
  },
  {
   "cell_type": "code",
   "execution_count": null,
   "outputs": [],
   "source": [
    "sns.set_palette(\"RdBu\")\n",
    "sns.countplot(x='Situacao_Aluno_Agrupada', data=df, order=df['Situacao_Aluno_Agrupada'].value_counts().index)\n",
    "plt.title('Situação do Aluno Agrupada')\n",
    "plt.yscale('log')\n",
    "plt.show()"
   ],
   "metadata": {
    "collapsed": false,
    "is_executing": true
   }
  },
  {
   "cell_type": "markdown",
   "source": [
    "### Tratamento da coluna 'Modalidade_Inscrita'"
   ],
   "metadata": {
    "collapsed": false
   }
  },
  {
   "cell_type": "markdown",
   "source": [
    "#### Dados da coluna\n",
    "    - Valores únicos\n",
    "    - Quantidade de alunos\n",
    "    - Tipo de dado"
   ],
   "metadata": {
    "collapsed": false
   }
  },
  {
   "cell_type": "code",
   "execution_count": null,
   "outputs": [],
   "source": [
    "print(\"Valores únicos: \", df['Modalidade_Inscrita'].unique())\n",
    "print(f\"Tipo de dado: {df['Modalidade_Inscrita'].dtype}\")"
   ],
   "metadata": {
    "collapsed": false,
    "is_executing": true
   }
  },
  {
   "cell_type": "code",
   "execution_count": null,
   "outputs": [],
   "source": [
    "df['Modalidade_Inscrita'].value_counts().reset_index().rename(columns={'index': 'Modalidade_Inscrita', 'Modalidade_Inscrita': 'Quantidade'})"
   ],
   "metadata": {
    "collapsed": false,
    "is_executing": true
   }
  },
  {
   "cell_type": "markdown",
   "source": [
    "##### Valores nulos não serão tratados, pois não possuem relevância para a análise"
   ],
   "metadata": {
    "collapsed": false
   }
  },
  {
   "cell_type": "code",
   "execution_count": null,
   "outputs": [],
   "source": [
    "print(f\"Quantidade de valores nulos: {df['Modalidade_Inscrita'].isnull().sum()}\")"
   ],
   "metadata": {
    "collapsed": false,
    "is_executing": true
   }
  },
  {
   "cell_type": "code",
   "execution_count": null,
   "outputs": [],
   "source": [
    "df['Modalidade_Inscrita'].value_counts().reset_index().rename(columns={'index': 'Modalidade_Inscrita', 'Modalidade_Inscrita': 'Quantidade'})"
   ],
   "metadata": {
    "collapsed": false,
    "is_executing": true
   }
  },
  {
   "cell_type": "markdown",
   "source": [
    "#### Visualização\n",
    "    - Gráfico de Contagem"
   ],
   "metadata": {
    "collapsed": false
   }
  },
  {
   "cell_type": "code",
   "execution_count": null,
   "outputs": [],
   "source": [
    "sns.countplot(x='Modalidade_Inscrita', data=df, order=df['Modalidade_Inscrita'].value_counts().index)\n",
    "plt.title('Modalidade Inscrita')\n",
    "plt.yscale('log')\n",
    "plt.show()"
   ],
   "metadata": {
    "collapsed": false,
    "is_executing": true
   }
  },
  {
   "cell_type": "markdown",
   "source": [
    "#### Tratamento da coluna 'ENEM"
   ],
   "metadata": {
    "collapsed": false
   }
  },
  {
   "cell_type": "markdown",
   "source": [
    "#### Dados da coluna\n",
    "    - Descrição dos dados\n",
    "    - Quantidade de alunos\n",
    "    - Tipo de dado"
   ],
   "metadata": {
    "collapsed": false
   }
  },
  {
   "cell_type": "code",
   "execution_count": null,
   "outputs": [],
   "source": [
    "print(f\"Tipo de dado: {df['ENEM'].dtype}\")\n",
    "df['ENEM'].describe()"
   ],
   "metadata": {
    "collapsed": false,
    "is_executing": true
   }
  },
  {
   "cell_type": "code",
   "execution_count": null,
   "outputs": [],
   "source": [
    "df['ENEM'].value_counts().reset_index().rename(columns={'index': 'ENEM', 'ENEM': 'Quantidade'})"
   ],
   "metadata": {
    "collapsed": false,
    "is_executing": true
   }
  },
  {
   "cell_type": "markdown",
   "source": [
    "#### Valores nulos\n",
    "    - Tratamento de valores nulos"
   ],
   "metadata": {
    "collapsed": false
   }
  },
  {
   "cell_type": "markdown",
   "source": [
    "##### Valores nulos não serão tratados, pois não possuem relevância para a análise"
   ],
   "metadata": {
    "collapsed": false
   }
  },
  {
   "cell_type": "code",
   "execution_count": null,
   "outputs": [],
   "source": [
    "print(f\"Quantidade de valores nulos: {df['ENEM'].isnull().sum()}\")"
   ],
   "metadata": {
    "collapsed": false,
    "is_executing": true
   }
  },
  {
   "cell_type": "markdown",
   "source": [
    "#### Visualização\n",
    "    - Boxplot\n",
    "    - Violinplot\n",
    "    - Histograma\n",
    "    - Boxplot por Modalidade_Inscrita\n",
    "    - BoxPlot por CRA\n",
    "    - Violinplot por Modalidade_Inscrita\n",
    "    - Correlação entre ENEM e Modalidade_Inscrita"
   ],
   "metadata": {
    "collapsed": false
   }
  },
  {
   "cell_type": "code",
   "execution_count": null,
   "outputs": [],
   "source": [
    "sns.boxplot(x='ENEM', data=df)\n",
    "plt.title('ENEM')\n",
    "plt.show()"
   ],
   "metadata": {
    "collapsed": false,
    "is_executing": true
   }
  },
  {
   "cell_type": "code",
   "execution_count": null,
   "outputs": [],
   "source": [
    "sns.violinplot(x='ENEM', data=df)\n",
    "plt.title('ENEM')\n",
    "plt.show()\n"
   ],
   "metadata": {
    "collapsed": false,
    "is_executing": true
   }
  },
  {
   "cell_type": "code",
   "execution_count": null,
   "outputs": [],
   "source": [
    "plt.hist(df['ENEM'], bins=50, edgecolor='black' )\n",
    "plt.xlabel('Nota do ENEM')\n",
    "plt.ylabel('Frequência')\n",
    "plt.title('Distribuição das Notas do ENEM')\n",
    "plt.show()"
   ],
   "metadata": {
    "collapsed": false,
    "is_executing": true
   }
  },
  {
   "cell_type": "code",
   "execution_count": null,
   "outputs": [],
   "source": [
    "plt.figure(figsize=(10, 6))\n",
    "sns.boxplot(x='Modalidade_Inscrita', y='ENEM', data=df)\n",
    "plt.title('ENEM')\n",
    "plt.show()"
   ],
   "metadata": {
    "collapsed": false,
    "is_executing": true
   }
  },
  {
   "cell_type": "code",
   "execution_count": null,
   "outputs": [],
   "source": [
    "plt.figure(figsize=(10, 6))\n",
    "sns.violinplot(x='Modalidade_Inscrita', y='ENEM', data=df)\n",
    "plt.title('ENEM')\n",
    "plt.show()"
   ],
   "metadata": {
    "collapsed": false,
    "is_executing": true
   }
  },
  {
   "cell_type": "code",
   "execution_count": null,
   "outputs": [],
   "source": [
    "sns.heatmap(df[['ENEM', 'Modalidade_Inscrita']].corr(), annot=True)"
   ],
   "metadata": {
    "collapsed": false,
    "is_executing": true
   }
  },
  {
   "cell_type": "markdown",
   "source": [
    "#### Tratamento da coluna 'CRA'"
   ],
   "metadata": {
    "collapsed": false
   }
  },
  {
   "cell_type": "markdown",
   "source": [
    "#### Dados da coluna\n",
    "    - Descrição dos dados\n",
    "    - Quantidade de alunos\n",
    "    - Tipo de dado"
   ],
   "metadata": {
    "collapsed": false
   }
  },
  {
   "cell_type": "code",
   "execution_count": null,
   "outputs": [],
   "source": [
    "print(f\"Tipo de dado: {df['CRA'].dtype}\")\n",
    "df['CRA'].describe()"
   ],
   "metadata": {
    "collapsed": false,
    "is_executing": true
   }
  },
  {
   "cell_type": "code",
   "execution_count": null,
   "outputs": [],
   "source": [
    "df['CRA'].value_counts().reset_index().rename(columns={'index': 'CRA', 'CRA': 'Quantidade'})"
   ],
   "metadata": {
    "collapsed": false,
    "is_executing": true
   }
  },
  {
   "cell_type": "markdown",
   "source": [
    "#### Valores nulos\n",
    "    - Tratamento de valores nulos"
   ],
   "metadata": {
    "collapsed": false
   }
  },
  {
   "cell_type": "markdown",
   "source": [
    "##### Valores nulos não serão tratados, pois não possuem relevância para a análise"
   ],
   "metadata": {
    "collapsed": false
   }
  },
  {
   "cell_type": "code",
   "execution_count": null,
   "outputs": [],
   "source": [
    "print(f\"Quantidade de valores nulos: {df['CRA'].isnull().sum()}\")"
   ],
   "metadata": {
    "collapsed": false,
    "is_executing": true
   }
  },
  {
   "cell_type": "markdown",
   "source": [
    "####  Outliers\n",
    "    - Tratamento de outliers"
   ],
   "metadata": {
    "collapsed": false
   }
  },
  {
   "cell_type": "markdown",
   "source": [
    "##### Valor 0 será substituído por NaN"
   ],
   "metadata": {
    "collapsed": false
   }
  },
  {
   "cell_type": "code",
   "execution_count": null,
   "outputs": [],
   "source": [
    "df['CRA'] = df['CRA'].replace(0, np.nan)"
   ],
   "metadata": {
    "collapsed": false,
    "is_executing": true
   }
  },
  {
   "cell_type": "code",
   "execution_count": null,
   "outputs": [],
   "source": [
    "df['CRA'].describe()"
   ],
   "metadata": {
    "collapsed": false,
    "is_executing": true
   }
  },
  {
   "cell_type": "code",
   "execution_count": null,
   "outputs": [],
   "source": [
    "df['CRA'].value_counts().reset_index().rename(columns={'index': 'CRA', 'CRA': 'Quantidade'})"
   ],
   "metadata": {
    "collapsed": false,
    "is_executing": true
   }
  },
  {
   "cell_type": "markdown",
   "source": [
    "#### Visualização\n",
    "    - Boxplot\n",
    "    - Violinplot\n",
    "    - Histograma\n",
    "    - Boxplot por Modalidade_Inscrita\n",
    "    - Matriz de dispersão"
   ],
   "metadata": {
    "collapsed": false
   }
  },
  {
   "cell_type": "code",
   "execution_count": null,
   "outputs": [],
   "source": [
    "sns.boxplot(x='CRA', data=df)\n",
    "plt.title('CRA')\n",
    "plt.show()"
   ],
   "metadata": {
    "collapsed": false,
    "is_executing": true
   }
  },
  {
   "cell_type": "code",
   "execution_count": null,
   "outputs": [],
   "source": [
    "sns.violinplot(x='CRA', data=df)\n",
    "plt.title('CRA')\n",
    "plt.show()"
   ],
   "metadata": {
    "collapsed": false,
    "is_executing": true
   }
  },
  {
   "cell_type": "code",
   "execution_count": null,
   "outputs": [],
   "source": [
    "plt.hist(df['CRA'], bins=50, edgecolor='black' )\n",
    "plt.xlabel('CRA')\n",
    "plt.ylabel('Frequência')\n",
    "plt.title('Distribuição do CRA')\n",
    "plt.show()"
   ],
   "metadata": {
    "collapsed": false,
    "is_executing": true
   }
  },
  {
   "cell_type": "code",
   "execution_count": null,
   "outputs": [],
   "source": [
    "plt.figure(figsize=(10, 6))\n",
    "sns.boxplot(x='Modalidade_Inscrita', y='CRA', data=df)\n",
    "plt.title('CRA')\n",
    "plt.show()"
   ],
   "metadata": {
    "collapsed": false,
    "is_executing": true
   }
  },
  {
   "cell_type": "code",
   "execution_count": null,
   "outputs": [],
   "source": [
    "cmd = df[['ENEM', 'CRA', 'Modalidade_Inscrita']]\n",
    "plt.figure(figsize=(10, 8))\n",
    "g = sns.pairplot(cmd, hue='Modalidade_Inscrita')\n",
    "g.fig.set_size_inches(10, 8)\n",
    "plt.show()"
   ],
   "metadata": {
    "collapsed": false,
    "is_executing": true
   }
  },
  {
   "cell_type": "markdown",
   "source": [
    "### Tratamento da coluna 'Num_Reprovacoes'"
   ],
   "metadata": {
    "collapsed": false
   }
  },
  {
   "cell_type": "markdown",
   "source": [],
   "metadata": {
    "collapsed": false
   }
  },
  {
   "cell_type": "markdown",
   "source": [
    "#### Dados da coluna\n",
    "    - Descrição dos dados\n",
    "    - Quantidade de alunos\n",
    "    - Tipo de dado"
   ],
   "metadata": {
    "collapsed": false
   }
  },
  {
   "cell_type": "code",
   "execution_count": null,
   "outputs": [],
   "source": [
    "print(f\"Tipo de dado: {df['Num_Reprovacoes'].dtype}\")\n",
    "df['Num_Reprovacoes'].describe()"
   ],
   "metadata": {
    "collapsed": false,
    "is_executing": true
   }
  },
  {
   "cell_type": "code",
   "execution_count": null,
   "outputs": [],
   "source": [
    "df['Num_Reprovacoes'].value_counts().reset_index().rename(columns={'index': 'Num_Reprovacoes', 'Num_Reprovacoes': 'Quantidade'})"
   ],
   "metadata": {
    "collapsed": false,
    "is_executing": true
   }
  },
  {
   "cell_type": "markdown",
   "source": [
    "#### Valores nulos\n",
    "    - Tratamento de valores nulos"
   ],
   "metadata": {
    "collapsed": false
   }
  },
  {
   "cell_type": "code",
   "execution_count": null,
   "outputs": [],
   "source": [
    "print(f\"Quantidade de valores nulos: {df['Num_Reprovacoes'].isnull().sum()}\")"
   ],
   "metadata": {
    "collapsed": false,
    "is_executing": true
   }
  },
  {
   "cell_type": "markdown",
   "source": [
    "#### Visualização\n",
    "    - Countplot\n",
    "    - Boxplot\n",
    "    - BoxPlot por Modalidade_Inscrita\n",
    "    - Heatmap\n",
    "    - Matriz de Dispersão"
   ],
   "metadata": {
    "collapsed": false
   }
  },
  {
   "cell_type": "code",
   "execution_count": null,
   "outputs": [],
   "source": [
    "plt.figure(figsize=(15, 6))\n",
    "sns.countplot(x='Num_Reprovacoes', data=df, order=df['Num_Reprovacoes'].value_counts().index)\n",
    "plt.title('Número de Reprovações')\n",
    "plt.yscale('log')\n",
    "\n",
    "plt.show()"
   ],
   "metadata": {
    "collapsed": false,
    "is_executing": true
   }
  },
  {
   "cell_type": "code",
   "execution_count": null,
   "outputs": [],
   "source": [
    "sns.boxplot(x='Num_Reprovacoes', data=df)\n",
    "plt.title('Número de Reprovações')\n",
    "plt.show()\n"
   ],
   "metadata": {
    "collapsed": false,
    "is_executing": true
   }
  },
  {
   "cell_type": "code",
   "execution_count": null,
   "outputs": [],
   "source": [
    "plt.figure(figsize=(10, 6))\n",
    "sns.boxplot(x='Modalidade_Inscrita', y='Num_Reprovacoes', data=df)\n",
    "plt.title('Número de Reprovações')\n",
    "plt.show()"
   ],
   "metadata": {
    "collapsed": false,
    "is_executing": true
   }
  },
  {
   "cell_type": "markdown",
   "source": [
    "##### Não a correlação entre reprovações e modalidade do ENEM"
   ],
   "metadata": {
    "collapsed": false
   }
  },
  {
   "cell_type": "code",
   "execution_count": null,
   "outputs": [],
   "source": [
    "sns.heatmap(df[['Num_Reprovacoes', 'Modalidade_Inscrita']].corr(), annot=True)"
   ],
   "metadata": {
    "collapsed": false,
    "is_executing": true
   }
  },
  {
   "cell_type": "markdown",
   "source": [],
   "metadata": {
    "collapsed": false
   }
  },
  {
   "cell_type": "code",
   "execution_count": null,
   "outputs": [],
   "source": [
    "rmd = df[['ENEM', 'CRA', 'Modalidade_Inscrita', 'Num_Reprovacoes']]\n",
    "plt.figure(figsize=(10, 8))\n",
    "g = sns.pairplot(rmd, hue='Modalidade_Inscrita')\n",
    "g.fig.set_size_inches(10, 8)\n",
    "plt.show()"
   ],
   "metadata": {
    "collapsed": false,
    "is_executing": true
   }
  },
  {
   "cell_type": "markdown",
   "source": [
    "##### Achei estranho não ter correlação entre o CRA e o número de reprovações, pelo menos não com uma análise mais simples"
   ],
   "metadata": {
    "collapsed": false
   }
  },
  {
   "cell_type": "code",
   "execution_count": null,
   "outputs": [],
   "source": [
    "df[['Num_Reprovacoes', 'CRA']].corr()"
   ],
   "metadata": {
    "collapsed": false,
    "is_executing": true
   }
  },
  {
   "cell_type": "markdown",
   "source": [
    "### Tratamento da coluna 'Raca'"
   ],
   "metadata": {
    "collapsed": false
   }
  },
  {
   "cell_type": "markdown",
   "source": [
    "#### Dados da coluna\n",
    "    - Descrição dos dados\n",
    "    - Unicos\n",
    "    - Tipo de dado"
   ],
   "metadata": {
    "collapsed": false
   }
  },
  {
   "cell_type": "code",
   "execution_count": null,
   "outputs": [],
   "source": [
    "print(f\"Tipo de dado: {df['Raca'].dtype}\")\n",
    "print(\"Unicos: \", df['Raca'].unique())"
   ],
   "metadata": {
    "collapsed": false,
    "is_executing": true
   }
  },
  {
   "cell_type": "code",
   "execution_count": null,
   "outputs": [],
   "source": [
    "df['Raca'].value_counts().reset_index().rename(columns={'index': 'Raca', 'Raca': 'Quantidade'})"
   ],
   "metadata": {
    "collapsed": false,
    "is_executing": true
   }
  },
  {
   "cell_type": "markdown",
   "source": [
    "#### Valores nulos\n",
    "    - Tratamento de valores nulos"
   ],
   "metadata": {
    "collapsed": false
   }
  },
  {
   "cell_type": "code",
   "execution_count": null,
   "outputs": [],
   "source": [
    "print(f\"Quantidade de valores nulos: {df['Raca'].isnull().sum()}\")"
   ],
   "metadata": {
    "collapsed": false,
    "is_executing": true
   }
  },
  {
   "cell_type": "code",
   "execution_count": null,
   "outputs": [],
   "source": [
    "df['Raca'].fillna('Não Informado', inplace=True)"
   ],
   "metadata": {
    "collapsed": false,
    "is_executing": true
   }
  },
  {
   "cell_type": "markdown",
   "source": [
    "##### A princípio, valores Informação não disponível serão tratados como NaN"
   ],
   "metadata": {
    "collapsed": false
   }
  },
  {
   "cell_type": "code",
   "execution_count": null,
   "outputs": [],
   "source": [
    "df['Raca'] = df['Raca'].replace('Informação não disponível', np.nan)"
   ],
   "metadata": {
    "collapsed": false,
    "is_executing": true
   }
  },
  {
   "cell_type": "code",
   "execution_count": null,
   "outputs": [],
   "source": [
    "print(f\"Quantidade de valores nulos: {df['Raca'].isnull().sum()}\")"
   ],
   "metadata": {
    "collapsed": false,
    "is_executing": true
   }
  },
  {
   "cell_type": "code",
   "execution_count": null,
   "outputs": [],
   "source": [
    "df['Raca'].value_counts().reset_index().rename(columns={'index': 'Raca', 'Raca': 'Quantidade'})"
   ],
   "metadata": {
    "collapsed": false,
    "is_executing": true
   }
  },
  {
   "cell_type": "markdown",
   "source": [
    "#### Visualização\n",
    "    - Countplot\n",
    "    - Boxplots\n",
    "    - Correlação\n"
   ],
   "metadata": {
    "collapsed": false
   }
  },
  {
   "cell_type": "code",
   "execution_count": null,
   "outputs": [],
   "source": [
    "plt.figure(figsize=(15, 6))\n",
    "sns.countplot(x='Raca', data=df, order=df['Raca'].value_counts().index)\n",
    "plt.title('Raça')\n",
    "plt.yscale('log')"
   ],
   "metadata": {
    "collapsed": false,
    "is_executing": true
   }
  },
  {
   "cell_type": "markdown",
   "source": [
    "##### Fica claro a relação de Modalidade_Inscrita com Raça"
   ],
   "metadata": {
    "collapsed": false
   }
  },
  {
   "cell_type": "code",
   "execution_count": null,
   "outputs": [],
   "source": [
    "plt.figure(figsize=(15, 6))\n",
    "sns.countplot(x='Raca', data=df, order=df['Raca'].value_counts().index, hue='Modalidade_Inscrita')\n",
    "plt.title('Raça')\n",
    "plt.yscale('log')"
   ],
   "metadata": {
    "collapsed": false,
    "is_executing": true
   }
  },
  {
   "cell_type": "markdown",
   "source": [
    "##### Bem dividido M e F"
   ],
   "metadata": {
    "collapsed": false
   }
  },
  {
   "cell_type": "code",
   "execution_count": null,
   "outputs": [],
   "source": [
    "plt.figure(figsize=(15, 6))\n",
    "sns.countplot(x='Raca', data=df, order=df['Raca'].value_counts().index, hue='Sexo')\n",
    "plt.title('Raça')"
   ],
   "metadata": {
    "collapsed": false,
    "is_executing": true
   }
  },
  {
   "cell_type": "code",
   "execution_count": null,
   "outputs": [],
   "source": [
    "plt.figure(figsize=(15, 6))\n",
    "sns.boxplot(x='Raca', y='CRA', data=df, order=df['Raca'].value_counts().index)\n",
    "plt.title('Raça')"
   ],
   "metadata": {
    "collapsed": false,
    "is_executing": true
   }
  },
  {
   "cell_type": "code",
   "execution_count": null,
   "outputs": [],
   "source": [
    "plt.figure(figsize=(15, 6))\n",
    "sns.boxplot(x='Raca', y='CRA', data=df, order=df['Raca'].value_counts().index, hue='Modalidade_Inscrita')\n",
    "plt.title('Raça')\n"
   ],
   "metadata": {
    "collapsed": false,
    "is_executing": true
   }
  },
  {
   "cell_type": "markdown",
   "source": [
    "##### Mulheres parece ter CRA maior que homens"
   ],
   "metadata": {
    "collapsed": false
   }
  },
  {
   "cell_type": "code",
   "execution_count": null,
   "outputs": [],
   "source": [
    "plt.figure(figsize=(15, 6))\n",
    "sns.boxplot(x='Raca', y='CRA', data=df, order=df['Raca'].value_counts().index, hue='Sexo')\n",
    "plt.title('Raça')\n"
   ],
   "metadata": {
    "collapsed": false,
    "is_executing": true
   }
  },
  {
   "cell_type": "code",
   "execution_count": null,
   "outputs": [],
   "source": [
    "plt.figure(figsize=(15, 6))\n",
    "sns.boxplot(x='Raca', y='ENEM', data=df, order=df['Raca'].value_counts().index, hue='Sexo')\n",
    "plt.title('Raça')"
   ],
   "metadata": {
    "collapsed": false,
    "is_executing": true
   }
  },
  {
   "cell_type": "markdown",
   "source": [],
   "metadata": {
    "collapsed": false
   }
  }
 ],
 "metadata": {
  "kernelspec": {
   "display_name": "Python 3 (ipykernel)",
   "language": "python",
   "name": "python3"
  },
  "language_info": {
   "codemirror_mode": {
    "name": "ipython",
    "version": 3
   },
   "file_extension": ".py",
   "mimetype": "text/x-python",
   "name": "python",
   "nbconvert_exporter": "python",
   "pygments_lexer": "ipython3",
   "version": "3.11.2"
  }
 },
 "nbformat": 4,
 "nbformat_minor": 5
}
