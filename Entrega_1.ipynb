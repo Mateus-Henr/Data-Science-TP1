{
 "cells": [
  {
   "cell_type": "markdown",
   "source": [
    "### Importando as bibliotecas necessárias\n",
    "\n"
   ],
   "metadata": {
    "collapsed": false
   }
  },
  {
   "cell_type": "code",
   "execution_count": 107,
   "outputs": [],
   "source": [
    "import pandas as pd\n",
    "import numpy as np"
   ],
   "metadata": {
    "collapsed": false
   }
  },
  {
   "cell_type": "markdown",
   "source": [
    "### Lendo o arquivo com os dados"
   ],
   "metadata": {
    "collapsed": false
   }
  },
  {
   "cell_type": "code",
   "execution_count": 108,
   "outputs": [
    {
     "data": {
      "text/plain": "       Identificador  Ano_Nascimento Sexo Campus  Curso_Identificador  \\\n0              29271          1982.0    M    CAV                 1101   \n1              29272          1982.0    M    CAV                 1101   \n2              34462          1979.0    F    CAV                 1101   \n3              34468          1979.0    F    CAV                 1101   \n4              34470          1980.0    F    CAV                 1101   \n...              ...             ...  ...    ...                  ...   \n74021         172112          1996.0  NaN    CAV                 1153   \n74022         172110          1995.0  NaN    CAV                 1153   \n74023         172113          1996.0  NaN    CAV                 1153   \n74024         172114          1998.0  NaN    CAV                 1153   \n74025         172082          2000.0  NaN    CAV                 1153   \n\n                                      Curso UF_Nascimento  \\\n0                       CAV - Administração            RJ   \n1                       CAV - Administração            DF   \n2                       CAV - Administração            MG   \n3                       CAV - Administração            MG   \n4                       CAV - Administração            SP   \n...                                     ...           ...   \n74021  CAV - Bacharelado em Educação Física           NaN   \n74022  CAV - Bacharelado em Educação Física           NaN   \n74023  CAV - Bacharelado em Educação Física           NaN   \n74024  CAV - Bacharelado em Educação Física           NaN   \n74025  CAV - Bacharelado em Educação Física           NaN   \n\n                 Municipio_Nascimento Admissao   Saida Codigo_Situacao_Aluno  \\\n0      VOLTA REDONDA                    2000/1  2000/1                     A   \n1                            Brasília   2000/1  2002/1                     A   \n2                              Viçosa   2000/1  2005/1                     C   \n3                      Belo Horizonte   2000/1  2006/1                     C   \n4                           São Paulo   2000/1  2004/2                     C   \n...                               ...      ...     ...                   ...   \n74021                             NaN   2023/1       0                     N   \n74022                             NaN   2023/1       0                     N   \n74023                             NaN   2023/1       0                     N   \n74024                             NaN   2023/1       0                     N   \n74025                             NaN   2023/1       0                     N   \n\n                                          Situacao_Aluno  \\\n0      Abandono                                      ...   \n1      Abandono                                      ...   \n2      Conclusão                                     ...   \n3      Conclusão                                     ...   \n4      Conclusão                                     ...   \n...                                                  ...   \n74021  Normal                                        ...   \n74022  Normal                                        ...   \n74023  Normal                                        ...   \n74024  Normal                                        ...   \n74025  Normal                                        ...   \n\n      Situacao_Aluno_Agrupada  Modalidade_Inscrita  ENEM  Num_Reprovacoes  \\\n0                      Evasão                  0.0   NaN                0   \n1                      Evasão                  0.0   NaN                3   \n2                   Conclusão                  0.0   NaN                3   \n3                   Conclusão                  0.0   NaN               20   \n4                   Conclusão                  0.0   NaN                1   \n...                       ...                  ...   ...              ...   \n74021             Matriculado                  0.0   NaN                0   \n74022             Matriculado                  0.0   NaN                0   \n74023             Matriculado                  0.0   NaN                0   \n74024             Matriculado                  0.0   NaN                0   \n74025             Matriculado                  0.0   NaN                0   \n\n                            Raca   CRA  \n0      Informação não disponível   0.0  \n1      Informação não disponível  71.2  \n2      Informação não disponível  78.5  \n3                       Pardo(a)  56.0  \n4      Informação não disponível  76.9  \n...                          ...   ...  \n74021  Informação não disponível   0.0  \n74022  Informação não disponível   NaN  \n74023  Informação não disponível   NaN  \n74024  Informação não disponível   NaN  \n74025  Informação não disponível   0.0  \n\n[74026 rows x 18 columns]",
      "text/html": "<div>\n<style scoped>\n    .dataframe tbody tr th:only-of-type {\n        vertical-align: middle;\n    }\n\n    .dataframe tbody tr th {\n        vertical-align: top;\n    }\n\n    .dataframe thead th {\n        text-align: right;\n    }\n</style>\n<table border=\"1\" class=\"dataframe\">\n  <thead>\n    <tr style=\"text-align: right;\">\n      <th></th>\n      <th>Identificador</th>\n      <th>Ano_Nascimento</th>\n      <th>Sexo</th>\n      <th>Campus</th>\n      <th>Curso_Identificador</th>\n      <th>Curso</th>\n      <th>UF_Nascimento</th>\n      <th>Municipio_Nascimento</th>\n      <th>Admissao</th>\n      <th>Saida</th>\n      <th>Codigo_Situacao_Aluno</th>\n      <th>Situacao_Aluno</th>\n      <th>Situacao_Aluno_Agrupada</th>\n      <th>Modalidade_Inscrita</th>\n      <th>ENEM</th>\n      <th>Num_Reprovacoes</th>\n      <th>Raca</th>\n      <th>CRA</th>\n    </tr>\n  </thead>\n  <tbody>\n    <tr>\n      <th>0</th>\n      <td>29271</td>\n      <td>1982.0</td>\n      <td>M</td>\n      <td>CAV</td>\n      <td>1101</td>\n      <td>CAV - Administração</td>\n      <td>RJ</td>\n      <td>VOLTA REDONDA</td>\n      <td>2000/1</td>\n      <td>2000/1</td>\n      <td>A</td>\n      <td>Abandono                                      ...</td>\n      <td>Evasão</td>\n      <td>0.0</td>\n      <td>NaN</td>\n      <td>0</td>\n      <td>Informação não disponível</td>\n      <td>0.0</td>\n    </tr>\n    <tr>\n      <th>1</th>\n      <td>29272</td>\n      <td>1982.0</td>\n      <td>M</td>\n      <td>CAV</td>\n      <td>1101</td>\n      <td>CAV - Administração</td>\n      <td>DF</td>\n      <td>Brasília</td>\n      <td>2000/1</td>\n      <td>2002/1</td>\n      <td>A</td>\n      <td>Abandono                                      ...</td>\n      <td>Evasão</td>\n      <td>0.0</td>\n      <td>NaN</td>\n      <td>3</td>\n      <td>Informação não disponível</td>\n      <td>71.2</td>\n    </tr>\n    <tr>\n      <th>2</th>\n      <td>34462</td>\n      <td>1979.0</td>\n      <td>F</td>\n      <td>CAV</td>\n      <td>1101</td>\n      <td>CAV - Administração</td>\n      <td>MG</td>\n      <td>Viçosa</td>\n      <td>2000/1</td>\n      <td>2005/1</td>\n      <td>C</td>\n      <td>Conclusão                                     ...</td>\n      <td>Conclusão</td>\n      <td>0.0</td>\n      <td>NaN</td>\n      <td>3</td>\n      <td>Informação não disponível</td>\n      <td>78.5</td>\n    </tr>\n    <tr>\n      <th>3</th>\n      <td>34468</td>\n      <td>1979.0</td>\n      <td>F</td>\n      <td>CAV</td>\n      <td>1101</td>\n      <td>CAV - Administração</td>\n      <td>MG</td>\n      <td>Belo Horizonte</td>\n      <td>2000/1</td>\n      <td>2006/1</td>\n      <td>C</td>\n      <td>Conclusão                                     ...</td>\n      <td>Conclusão</td>\n      <td>0.0</td>\n      <td>NaN</td>\n      <td>20</td>\n      <td>Pardo(a)</td>\n      <td>56.0</td>\n    </tr>\n    <tr>\n      <th>4</th>\n      <td>34470</td>\n      <td>1980.0</td>\n      <td>F</td>\n      <td>CAV</td>\n      <td>1101</td>\n      <td>CAV - Administração</td>\n      <td>SP</td>\n      <td>São Paulo</td>\n      <td>2000/1</td>\n      <td>2004/2</td>\n      <td>C</td>\n      <td>Conclusão                                     ...</td>\n      <td>Conclusão</td>\n      <td>0.0</td>\n      <td>NaN</td>\n      <td>1</td>\n      <td>Informação não disponível</td>\n      <td>76.9</td>\n    </tr>\n    <tr>\n      <th>...</th>\n      <td>...</td>\n      <td>...</td>\n      <td>...</td>\n      <td>...</td>\n      <td>...</td>\n      <td>...</td>\n      <td>...</td>\n      <td>...</td>\n      <td>...</td>\n      <td>...</td>\n      <td>...</td>\n      <td>...</td>\n      <td>...</td>\n      <td>...</td>\n      <td>...</td>\n      <td>...</td>\n      <td>...</td>\n      <td>...</td>\n    </tr>\n    <tr>\n      <th>74021</th>\n      <td>172112</td>\n      <td>1996.0</td>\n      <td>NaN</td>\n      <td>CAV</td>\n      <td>1153</td>\n      <td>CAV - Bacharelado em Educação Física</td>\n      <td>NaN</td>\n      <td>NaN</td>\n      <td>2023/1</td>\n      <td>0</td>\n      <td>N</td>\n      <td>Normal                                        ...</td>\n      <td>Matriculado</td>\n      <td>0.0</td>\n      <td>NaN</td>\n      <td>0</td>\n      <td>Informação não disponível</td>\n      <td>0.0</td>\n    </tr>\n    <tr>\n      <th>74022</th>\n      <td>172110</td>\n      <td>1995.0</td>\n      <td>NaN</td>\n      <td>CAV</td>\n      <td>1153</td>\n      <td>CAV - Bacharelado em Educação Física</td>\n      <td>NaN</td>\n      <td>NaN</td>\n      <td>2023/1</td>\n      <td>0</td>\n      <td>N</td>\n      <td>Normal                                        ...</td>\n      <td>Matriculado</td>\n      <td>0.0</td>\n      <td>NaN</td>\n      <td>0</td>\n      <td>Informação não disponível</td>\n      <td>NaN</td>\n    </tr>\n    <tr>\n      <th>74023</th>\n      <td>172113</td>\n      <td>1996.0</td>\n      <td>NaN</td>\n      <td>CAV</td>\n      <td>1153</td>\n      <td>CAV - Bacharelado em Educação Física</td>\n      <td>NaN</td>\n      <td>NaN</td>\n      <td>2023/1</td>\n      <td>0</td>\n      <td>N</td>\n      <td>Normal                                        ...</td>\n      <td>Matriculado</td>\n      <td>0.0</td>\n      <td>NaN</td>\n      <td>0</td>\n      <td>Informação não disponível</td>\n      <td>NaN</td>\n    </tr>\n    <tr>\n      <th>74024</th>\n      <td>172114</td>\n      <td>1998.0</td>\n      <td>NaN</td>\n      <td>CAV</td>\n      <td>1153</td>\n      <td>CAV - Bacharelado em Educação Física</td>\n      <td>NaN</td>\n      <td>NaN</td>\n      <td>2023/1</td>\n      <td>0</td>\n      <td>N</td>\n      <td>Normal                                        ...</td>\n      <td>Matriculado</td>\n      <td>0.0</td>\n      <td>NaN</td>\n      <td>0</td>\n      <td>Informação não disponível</td>\n      <td>NaN</td>\n    </tr>\n    <tr>\n      <th>74025</th>\n      <td>172082</td>\n      <td>2000.0</td>\n      <td>NaN</td>\n      <td>CAV</td>\n      <td>1153</td>\n      <td>CAV - Bacharelado em Educação Física</td>\n      <td>NaN</td>\n      <td>NaN</td>\n      <td>2023/1</td>\n      <td>0</td>\n      <td>N</td>\n      <td>Normal                                        ...</td>\n      <td>Matriculado</td>\n      <td>0.0</td>\n      <td>NaN</td>\n      <td>0</td>\n      <td>Informação não disponível</td>\n      <td>0.0</td>\n    </tr>\n  </tbody>\n</table>\n<p>74026 rows × 18 columns</p>\n</div>"
     },
     "execution_count": 108,
     "metadata": {},
     "output_type": "execute_result"
    }
   ],
   "source": [
    "dados = pd.read_excel('./Dados de estudantes da UFV - 2022-12-12.ods')\n",
    "dados"
   ],
   "metadata": {
    "collapsed": false
   }
  },
  {
   "cell_type": "markdown",
   "source": [
    "### Verificando as 5 primeiras linhas do DataFrame"
   ],
   "metadata": {
    "collapsed": false
   }
  },
  {
   "cell_type": "code",
   "execution_count": 109,
   "outputs": [
    {
     "data": {
      "text/plain": "   Identificador  Ano_Nascimento Sexo Campus  Curso_Identificador  \\\n0          29271          1982.0    M    CAV                 1101   \n1          29272          1982.0    M    CAV                 1101   \n2          34462          1979.0    F    CAV                 1101   \n3          34468          1979.0    F    CAV                 1101   \n4          34470          1980.0    F    CAV                 1101   \n\n                 Curso UF_Nascimento            Municipio_Nascimento Admissao  \\\n0  CAV - Administração            RJ  VOLTA REDONDA                    2000/1   \n1  CAV - Administração            DF                        Brasília   2000/1   \n2  CAV - Administração            MG                          Viçosa   2000/1   \n3  CAV - Administração            MG                  Belo Horizonte   2000/1   \n4  CAV - Administração            SP                       São Paulo   2000/1   \n\n    Saida Codigo_Situacao_Aluno  \\\n0  2000/1                     A   \n1  2002/1                     A   \n2  2005/1                     C   \n3  2006/1                     C   \n4  2004/2                     C   \n\n                                      Situacao_Aluno Situacao_Aluno_Agrupada  \\\n0  Abandono                                      ...                  Evasão   \n1  Abandono                                      ...                  Evasão   \n2  Conclusão                                     ...               Conclusão   \n3  Conclusão                                     ...               Conclusão   \n4  Conclusão                                     ...               Conclusão   \n\n   Modalidade_Inscrita  ENEM  Num_Reprovacoes                       Raca   CRA  \n0                  0.0   NaN                0  Informação não disponível   0.0  \n1                  0.0   NaN                3  Informação não disponível  71.2  \n2                  0.0   NaN                3  Informação não disponível  78.5  \n3                  0.0   NaN               20                   Pardo(a)  56.0  \n4                  0.0   NaN                1  Informação não disponível  76.9  ",
      "text/html": "<div>\n<style scoped>\n    .dataframe tbody tr th:only-of-type {\n        vertical-align: middle;\n    }\n\n    .dataframe tbody tr th {\n        vertical-align: top;\n    }\n\n    .dataframe thead th {\n        text-align: right;\n    }\n</style>\n<table border=\"1\" class=\"dataframe\">\n  <thead>\n    <tr style=\"text-align: right;\">\n      <th></th>\n      <th>Identificador</th>\n      <th>Ano_Nascimento</th>\n      <th>Sexo</th>\n      <th>Campus</th>\n      <th>Curso_Identificador</th>\n      <th>Curso</th>\n      <th>UF_Nascimento</th>\n      <th>Municipio_Nascimento</th>\n      <th>Admissao</th>\n      <th>Saida</th>\n      <th>Codigo_Situacao_Aluno</th>\n      <th>Situacao_Aluno</th>\n      <th>Situacao_Aluno_Agrupada</th>\n      <th>Modalidade_Inscrita</th>\n      <th>ENEM</th>\n      <th>Num_Reprovacoes</th>\n      <th>Raca</th>\n      <th>CRA</th>\n    </tr>\n  </thead>\n  <tbody>\n    <tr>\n      <th>0</th>\n      <td>29271</td>\n      <td>1982.0</td>\n      <td>M</td>\n      <td>CAV</td>\n      <td>1101</td>\n      <td>CAV - Administração</td>\n      <td>RJ</td>\n      <td>VOLTA REDONDA</td>\n      <td>2000/1</td>\n      <td>2000/1</td>\n      <td>A</td>\n      <td>Abandono                                      ...</td>\n      <td>Evasão</td>\n      <td>0.0</td>\n      <td>NaN</td>\n      <td>0</td>\n      <td>Informação não disponível</td>\n      <td>0.0</td>\n    </tr>\n    <tr>\n      <th>1</th>\n      <td>29272</td>\n      <td>1982.0</td>\n      <td>M</td>\n      <td>CAV</td>\n      <td>1101</td>\n      <td>CAV - Administração</td>\n      <td>DF</td>\n      <td>Brasília</td>\n      <td>2000/1</td>\n      <td>2002/1</td>\n      <td>A</td>\n      <td>Abandono                                      ...</td>\n      <td>Evasão</td>\n      <td>0.0</td>\n      <td>NaN</td>\n      <td>3</td>\n      <td>Informação não disponível</td>\n      <td>71.2</td>\n    </tr>\n    <tr>\n      <th>2</th>\n      <td>34462</td>\n      <td>1979.0</td>\n      <td>F</td>\n      <td>CAV</td>\n      <td>1101</td>\n      <td>CAV - Administração</td>\n      <td>MG</td>\n      <td>Viçosa</td>\n      <td>2000/1</td>\n      <td>2005/1</td>\n      <td>C</td>\n      <td>Conclusão                                     ...</td>\n      <td>Conclusão</td>\n      <td>0.0</td>\n      <td>NaN</td>\n      <td>3</td>\n      <td>Informação não disponível</td>\n      <td>78.5</td>\n    </tr>\n    <tr>\n      <th>3</th>\n      <td>34468</td>\n      <td>1979.0</td>\n      <td>F</td>\n      <td>CAV</td>\n      <td>1101</td>\n      <td>CAV - Administração</td>\n      <td>MG</td>\n      <td>Belo Horizonte</td>\n      <td>2000/1</td>\n      <td>2006/1</td>\n      <td>C</td>\n      <td>Conclusão                                     ...</td>\n      <td>Conclusão</td>\n      <td>0.0</td>\n      <td>NaN</td>\n      <td>20</td>\n      <td>Pardo(a)</td>\n      <td>56.0</td>\n    </tr>\n    <tr>\n      <th>4</th>\n      <td>34470</td>\n      <td>1980.0</td>\n      <td>F</td>\n      <td>CAV</td>\n      <td>1101</td>\n      <td>CAV - Administração</td>\n      <td>SP</td>\n      <td>São Paulo</td>\n      <td>2000/1</td>\n      <td>2004/2</td>\n      <td>C</td>\n      <td>Conclusão                                     ...</td>\n      <td>Conclusão</td>\n      <td>0.0</td>\n      <td>NaN</td>\n      <td>1</td>\n      <td>Informação não disponível</td>\n      <td>76.9</td>\n    </tr>\n  </tbody>\n</table>\n</div>"
     },
     "execution_count": 109,
     "metadata": {},
     "output_type": "execute_result"
    }
   ],
   "source": [
    "dados.head()"
   ],
   "metadata": {
    "collapsed": false
   }
  },
  {
   "cell_type": "markdown",
   "source": [
    "### Informação sobre o conteúdo dos dados"
   ],
   "metadata": {
    "collapsed": false
   }
  },
  {
   "cell_type": "code",
   "execution_count": 110,
   "outputs": [
    {
     "name": "stdout",
     "output_type": "stream",
     "text": [
      "<class 'pandas.core.frame.DataFrame'>\n",
      "RangeIndex: 74026 entries, 0 to 74025\n",
      "Data columns (total 18 columns):\n",
      " #   Column                   Non-Null Count  Dtype  \n",
      "---  ------                   --------------  -----  \n",
      " 0   Identificador            74026 non-null  int64  \n",
      " 1   Ano_Nascimento           73949 non-null  float64\n",
      " 2   Sexo                     73986 non-null  object \n",
      " 3   Campus                   74026 non-null  object \n",
      " 4   Curso_Identificador      74026 non-null  int64  \n",
      " 5   Curso                    74026 non-null  object \n",
      " 6   UF_Nascimento            73971 non-null  object \n",
      " 7   Municipio_Nascimento     73990 non-null  object \n",
      " 8   Admissao                 74026 non-null  object \n",
      " 9   Saida                    74026 non-null  object \n",
      " 10  Codigo_Situacao_Aluno    74026 non-null  object \n",
      " 11  Situacao_Aluno           74026 non-null  object \n",
      " 12  Situacao_Aluno_Agrupada  74026 non-null  object \n",
      " 13  Modalidade_Inscrita      68753 non-null  float64\n",
      " 14  ENEM                     39183 non-null  float64\n",
      " 15  Num_Reprovacoes          74026 non-null  int64  \n",
      " 16  Raca                     74026 non-null  object \n",
      " 17  CRA                      74016 non-null  float64\n",
      "dtypes: float64(4), int64(3), object(11)\n",
      "memory usage: 10.2+ MB\n"
     ]
    }
   ],
   "source": [
    "dados.info()"
   ],
   "metadata": {
    "collapsed": false
   }
  },
  {
   "cell_type": "markdown",
   "source": [
    "### Descrição dos dados"
   ],
   "metadata": {
    "collapsed": false
   }
  },
  {
   "cell_type": "code",
   "execution_count": 111,
   "outputs": [
    {
     "data": {
      "text/plain": "       Identificador  Ano_Nascimento  Curso_Identificador  \\\ncount   7.402600e+04    73949.000000         74026.000000   \nmean    4.914848e+06     1990.876442          1427.490963   \nstd     1.032870e+07        8.366123           653.483918   \nmin     5.471000e+03     1900.000000          1101.000000   \n25%     6.667525e+04     1986.000000          1112.000000   \n50%     1.119175e+05     1992.000000          1127.000000   \n75%     1.622678e+05     1997.000000          1149.000000   \nmax     3.001076e+07     2022.000000          3112.000000   \n\n       Modalidade_Inscrita          ENEM  Num_Reprovacoes           CRA  \ncount         68753.000000  39183.000000     74026.000000  74016.000000  \nmean              3.457725    629.164453         4.968444     61.882511  \nstd               3.957373     68.806862         5.946912     24.364191  \nmin               0.000000    253.240000         0.000000      0.000000  \n25%               0.000000    587.660000         0.000000     51.400000  \n50%               1.000000    634.580000         3.000000     69.600000  \n75%               9.000000    676.260000         7.000000     79.300000  \nmax               9.000000    847.380000        93.000000    100.000000  ",
      "text/html": "<div>\n<style scoped>\n    .dataframe tbody tr th:only-of-type {\n        vertical-align: middle;\n    }\n\n    .dataframe tbody tr th {\n        vertical-align: top;\n    }\n\n    .dataframe thead th {\n        text-align: right;\n    }\n</style>\n<table border=\"1\" class=\"dataframe\">\n  <thead>\n    <tr style=\"text-align: right;\">\n      <th></th>\n      <th>Identificador</th>\n      <th>Ano_Nascimento</th>\n      <th>Curso_Identificador</th>\n      <th>Modalidade_Inscrita</th>\n      <th>ENEM</th>\n      <th>Num_Reprovacoes</th>\n      <th>CRA</th>\n    </tr>\n  </thead>\n  <tbody>\n    <tr>\n      <th>count</th>\n      <td>7.402600e+04</td>\n      <td>73949.000000</td>\n      <td>74026.000000</td>\n      <td>68753.000000</td>\n      <td>39183.000000</td>\n      <td>74026.000000</td>\n      <td>74016.000000</td>\n    </tr>\n    <tr>\n      <th>mean</th>\n      <td>4.914848e+06</td>\n      <td>1990.876442</td>\n      <td>1427.490963</td>\n      <td>3.457725</td>\n      <td>629.164453</td>\n      <td>4.968444</td>\n      <td>61.882511</td>\n    </tr>\n    <tr>\n      <th>std</th>\n      <td>1.032870e+07</td>\n      <td>8.366123</td>\n      <td>653.483918</td>\n      <td>3.957373</td>\n      <td>68.806862</td>\n      <td>5.946912</td>\n      <td>24.364191</td>\n    </tr>\n    <tr>\n      <th>min</th>\n      <td>5.471000e+03</td>\n      <td>1900.000000</td>\n      <td>1101.000000</td>\n      <td>0.000000</td>\n      <td>253.240000</td>\n      <td>0.000000</td>\n      <td>0.000000</td>\n    </tr>\n    <tr>\n      <th>25%</th>\n      <td>6.667525e+04</td>\n      <td>1986.000000</td>\n      <td>1112.000000</td>\n      <td>0.000000</td>\n      <td>587.660000</td>\n      <td>0.000000</td>\n      <td>51.400000</td>\n    </tr>\n    <tr>\n      <th>50%</th>\n      <td>1.119175e+05</td>\n      <td>1992.000000</td>\n      <td>1127.000000</td>\n      <td>1.000000</td>\n      <td>634.580000</td>\n      <td>3.000000</td>\n      <td>69.600000</td>\n    </tr>\n    <tr>\n      <th>75%</th>\n      <td>1.622678e+05</td>\n      <td>1997.000000</td>\n      <td>1149.000000</td>\n      <td>9.000000</td>\n      <td>676.260000</td>\n      <td>7.000000</td>\n      <td>79.300000</td>\n    </tr>\n    <tr>\n      <th>max</th>\n      <td>3.001076e+07</td>\n      <td>2022.000000</td>\n      <td>3112.000000</td>\n      <td>9.000000</td>\n      <td>847.380000</td>\n      <td>93.000000</td>\n      <td>100.000000</td>\n    </tr>\n  </tbody>\n</table>\n</div>"
     },
     "execution_count": 111,
     "metadata": {},
     "output_type": "execute_result"
    }
   ],
   "source": [
    "dados.describe()"
   ],
   "metadata": {
    "collapsed": false
   }
  },
  {
   "cell_type": "markdown",
   "source": [
    "### Verificando a quantidade de dados nulos em cada coluna"
   ],
   "metadata": {
    "collapsed": false
   }
  },
  {
   "cell_type": "code",
   "execution_count": 112,
   "outputs": [
    {
     "data": {
      "text/plain": "Identificador                  0\nAno_Nascimento                77\nSexo                          40\nCampus                         0\nCurso_Identificador            0\nCurso                          0\nUF_Nascimento                 55\nMunicipio_Nascimento          36\nAdmissao                       0\nSaida                          0\nCodigo_Situacao_Aluno          0\nSituacao_Aluno                 0\nSituacao_Aluno_Agrupada        0\nModalidade_Inscrita         5273\nENEM                       34843\nNum_Reprovacoes                0\nRaca                           0\nCRA                           10\ndtype: int64"
     },
     "execution_count": 112,
     "metadata": {},
     "output_type": "execute_result"
    }
   ],
   "source": [
    "dados.isnull().sum()"
   ],
   "metadata": {
    "collapsed": false
   }
  },
  {
   "cell_type": "markdown",
   "source": [
    "### Verificando valores únicos e contagem para cada atributo"
   ],
   "metadata": {
    "collapsed": false
   }
  },
  {
   "cell_type": "code",
   "execution_count": 113,
   "outputs": [
    {
     "name": "stdout",
     "output_type": "stream",
     "text": [
      "\n",
      "Identificador\n",
      "Variedade: 74026\n",
      "Dados: \n",
      "29271     1\n",
      "131589    1\n",
      "129368    1\n",
      "129365    1\n",
      "129354    1\n",
      "         ..\n",
      "76865     1\n",
      "76321     1\n",
      "76309     1\n",
      "76304     1\n",
      "172082    1\n",
      "Name: Identificador, Length: 74026, dtype: int64\n",
      "\n",
      "\n",
      "Ano_Nascimento\n",
      "Variedade: 71\n",
      "Dados: \n",
      "1991.0    3803\n",
      "1995.0    3746\n",
      "1993.0    3738\n",
      "1994.0    3737\n",
      "1996.0    3728\n",
      "          ... \n",
      "1942.0       1\n",
      "2008.0       1\n",
      "1943.0       1\n",
      "2015.0       1\n",
      "1938.0       1\n",
      "Name: Ano_Nascimento, Length: 71, dtype: int64\n",
      "\n",
      "\n",
      "Sexo\n",
      "Variedade: 2\n",
      "Dados: \n",
      "F    37032\n",
      "M    36954\n",
      "Name: Sexo, dtype: int64\n",
      "\n",
      "\n",
      "Campus\n",
      "Variedade: 3\n",
      "Dados: \n",
      "CAV    60339\n",
      "CRP     8413\n",
      "CAF     5274\n",
      "Name: Campus, dtype: int64\n",
      "\n",
      "\n",
      "Curso_Identificador\n",
      "Variedade: 79\n",
      "Dados: \n",
      "1103    5787\n",
      "1121    1974\n",
      "1113    1651\n",
      "1132    1637\n",
      "1114    1627\n",
      "        ... \n",
      "1424     243\n",
      "1154     217\n",
      "1418     205\n",
      "2102     160\n",
      "1423       1\n",
      "Name: Curso_Identificador, Length: 79, dtype: int64\n",
      "\n",
      "\n",
      "Curso\n",
      "Variedade: 93\n",
      "Dados: \n",
      "CAV - Agronomia                                                       5787\n",
      "CAV - Administração                                                   1982\n",
      "CAV - Zootecnia                                                       1974\n",
      "CAV - Engenharia Florestal                                            1651\n",
      "CAV - Geografia                                                       1637\n",
      "                                                                      ... \n",
      "CAF - Física - Licenciatura                                             83\n",
      "CAV - Administração - Habilitação em Administração de Cooperativas      35\n",
      "CAV - LETRAS                                                            10\n",
      "CAV - Biologia                                                           1\n",
      "CAV - LICENCIATURA EM FISICA                                             1\n",
      "Name: Curso, Length: 93, dtype: int64\n",
      "\n",
      "\n",
      "UF_Nascimento\n",
      "Variedade: 29\n",
      "Dados: \n",
      "MG    57331\n",
      "SP     6416\n",
      "RJ     3364\n",
      "ES     3185\n",
      "BA     1087\n",
      "GO      509\n",
      "DF      395\n",
      "PR      294\n",
      "PA      213\n",
      "MT      177\n",
      "RS      128\n",
      "MS      117\n",
      "RO      109\n",
      "MA      100\n",
      "PE       88\n",
      "SC       72\n",
      "TO       61\n",
      "CE       57\n",
      "AM       53\n",
      "SE       43\n",
      "AL       38\n",
      "PB       31\n",
      "RN       29\n",
      "AP       23\n",
      "PI       17\n",
      "AC       15\n",
      "RR       13\n",
      "          3\n",
      "          3\n",
      "Name: UF_Nascimento, dtype: int64\n",
      "\n",
      "\n",
      "Municipio_Nascimento\n",
      "Variedade: 3059\n",
      "Dados: \n",
      "Viçosa                     10664\n",
      "Belo Horizonte              5549\n",
      "Ponte Nova                  2419\n",
      "São Paulo                   2077\n",
      "Ubá                         1914\n",
      "                           ...  \n",
      "CAPINOPOLIS                    1\n",
      "Matias Barbosa                 1\n",
      "Montes claros                  1\n",
      "Santa Cruz da Conceição        1\n",
      "Falta Certidão                 1\n",
      "Name: Municipio_Nascimento, Length: 3059, dtype: int64\n",
      "\n",
      "\n",
      "Admissao\n",
      "Variedade: 53\n",
      "Dados: \n",
      "2017/1    4039\n",
      "2018/1    3962\n",
      "2016/1    3954\n",
      "2015/1    3944\n",
      "2014/1    3918\n",
      "2011/1    3853\n",
      "2013/1    3845\n",
      "2019/1    3794\n",
      "2012/1    3607\n",
      "2020/1    3591\n",
      "2010/1    3399\n",
      "2022/1    3261\n",
      "2021/1    3240\n",
      "2002/1    2854\n",
      "2009/1    2631\n",
      "2008/1    2355\n",
      "2006/1    2275\n",
      "2007/1    2068\n",
      "2005/1    1948\n",
      "2003/1    1947\n",
      "2004/1    1907\n",
      "2001/1    1781\n",
      "2000/1    1531\n",
      "2011/2     414\n",
      "2009/2     409\n",
      "2007/2     340\n",
      "2010/2     318\n",
      "2018/2     316\n",
      "2008/2     313\n",
      "2006/2     312\n",
      "2022/2     290\n",
      "2017/2     277\n",
      "2016/2     243\n",
      "2019/2     225\n",
      "2003/2     182\n",
      "2002/2     120\n",
      "2005/2     116\n",
      "2004/2     102\n",
      "2021/2      66\n",
      "2014/2      49\n",
      "2015/2      45\n",
      "2020/2      45\n",
      "2000/2      44\n",
      "2012/2      26\n",
      "2001/2      25\n",
      "2013/2      23\n",
      "2023/1      10\n",
      "2020/4       5\n",
      "2010/0       2\n",
      "2015/0       2\n",
      "2007/0       1\n",
      "2005/0       1\n",
      "2021/0       1\n",
      "Name: Admissao, dtype: int64\n",
      "\n",
      "\n",
      "Saida\n",
      "Variedade: 65\n",
      "Dados: \n",
      "0         13908\n",
      "2015/2     2604\n",
      "2014/2     2525\n",
      "2016/2     2385\n",
      "2013/2     2348\n",
      "          ...  \n",
      "2021/0        4\n",
      "2008/0        3\n",
      "2014/0        1\n",
      "2009/0        1\n",
      "2005/0        1\n",
      "Name: Saida, Length: 65, dtype: int64\n",
      "\n",
      "\n",
      "Codigo_Situacao_Aluno\n",
      "Variedade: 20\n",
      "Dados: \n",
      "C    31359\n",
      "A    16695\n",
      "N    13436\n",
      "D     6354\n",
      "M     5239\n",
      "T      364\n",
      "K      323\n",
      "Z       52\n",
      "G       49\n",
      "W       45\n",
      "F       41\n",
      "B       20\n",
      "X       18\n",
      "S        8\n",
      "I        6\n",
      "Y        6\n",
      "Q        4\n",
      "J        3\n",
      "R        2\n",
      "H        2\n",
      "Name: Codigo_Situacao_Aluno, dtype: int64\n",
      "\n",
      "\n",
      "Situacao_Aluno\n",
      "Variedade: 25\n",
      "Dados: \n",
      "Conclusão                                             31359\n",
      "Normal                                                13436\n",
      "Abandono                                              13139\n",
      "Desligamento                                           6354\n",
      "Mudança de Curso                                       5239\n",
      "Estudante em abandono de curso                         3556\n",
      "Transferência                                           364\n",
      "Trancamento                                             323\n",
      "Afastamento/Intercâmbio                                  49\n",
      "Trancamento por Motivo de Saúde                          48\n",
      "Afastamento Especial                                     45\n",
      "Falecimento                                              41\n",
      "Exclusão                                                 18\n",
      "Concluiu as exigências do curso (não colou grau)         16\n",
      "Anulação de Matrícula                                     8\n",
      "Afastamento                                               6\n",
      "Concluinte (relatório não analisado)                      6\n",
      "Matrícula Condicional/Reconsideração Desligamento         4\n",
      "Trancamento de Matrícula por Motivo de Saúde              4\n",
      "Matrícula Suspensa Temporariamente                        3\n",
      "Concluindo (não colou grau)                               2\n",
      "Habilitação                                               2\n",
      "Concluinte (não colou grau)                               2\n",
      "Reconsideração de Desligamento/Tramitação                 1\n",
      "Afastamento/Reconsideração de Desligamento                1\n",
      "Name: Situacao_Aluno, dtype: int64\n",
      "\n",
      "\n",
      "Situacao_Aluno_Agrupada\n",
      "Variedade: 4\n",
      "Dados: \n",
      "Conclusão      31385\n",
      "Evasão         28725\n",
      "Matriculado    11406\n",
      "Retenção        2510\n",
      "Name: Situacao_Aluno_Agrupada, dtype: int64\n",
      "\n",
      "\n",
      "Modalidade_Inscrita\n",
      "Variedade: 10\n",
      "Dados: \n",
      "0.0    32901\n",
      "9.0    19495\n",
      "1.0     4884\n",
      "5.0     4629\n",
      "3.0     3348\n",
      "7.0     3281\n",
      "8.0       86\n",
      "4.0       54\n",
      "6.0       45\n",
      "2.0       30\n",
      "Name: Modalidade_Inscrita, dtype: int64\n",
      "\n",
      "\n",
      "ENEM\n",
      "Variedade: 13187\n",
      "Dados: \n",
      "671.38    14\n",
      "646.34    13\n",
      "673.30    13\n",
      "666.04    13\n",
      "622.88    13\n",
      "          ..\n",
      "541.68     1\n",
      "509.88     1\n",
      "464.02     1\n",
      "449.30     1\n",
      "530.74     1\n",
      "Name: ENEM, Length: 13187, dtype: int64\n",
      "\n",
      "\n",
      "Num_Reprovacoes\n",
      "Variedade: 61\n",
      "Dados: \n",
      "0     21152\n",
      "1      7862\n",
      "2      5513\n",
      "3      4807\n",
      "5      4689\n",
      "      ...  \n",
      "46        1\n",
      "80        1\n",
      "56        1\n",
      "58        1\n",
      "57        1\n",
      "Name: Num_Reprovacoes, Length: 61, dtype: int64\n",
      "\n",
      "\n",
      "Raca\n",
      "Variedade: 6\n",
      "Dados: \n",
      "Branco(a)                    26897\n",
      "Informação não disponível    22373\n",
      "Pardo(a)                     18077\n",
      "Preto(a)                      5324\n",
      "Amarelo(a)                    1089\n",
      "Indígena                       266\n",
      "Name: Raca, dtype: int64\n",
      "\n",
      "\n",
      "CRA\n",
      "Variedade: 991\n",
      "Dados: \n",
      "0.0     3909\n",
      "79.2     238\n",
      "76.0     237\n",
      "76.6     236\n",
      "80.0     236\n",
      "        ... \n",
      "99.5       1\n",
      "99.3       1\n",
      "98.6       1\n",
      "98.3       1\n",
      "99.2       1\n",
      "Name: CRA, Length: 991, dtype: int64\n",
      "\n"
     ]
    }
   ],
   "source": [
    "for coluna in dados.columns:\n",
    "    print(f\"\\n{coluna}\\nVariedade: {dados[coluna].nunique()}\\nDados: \\n{dados[coluna].value_counts()}\\n\")"
   ],
   "metadata": {
    "collapsed": false
   }
  }
 ],
 "metadata": {
  "kernelspec": {
   "display_name": "Python 3 (ipykernel)",
   "language": "python",
   "name": "python3"
  },
  "language_info": {
   "codemirror_mode": {
    "name": "ipython",
    "version": 3
   },
   "file_extension": ".py",
   "mimetype": "text/x-python",
   "name": "python",
   "nbconvert_exporter": "python",
   "pygments_lexer": "ipython3",
   "version": "3.11.2"
  }
 },
 "nbformat": 4,
 "nbformat_minor": 5
}
