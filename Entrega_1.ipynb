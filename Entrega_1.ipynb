{
 "cells": [
  {
   "cell_type": "markdown",
   "source": [
    "### Importando as bibliotecas necessárias\n",
    "\n"
   ],
   "metadata": {
    "collapsed": false
   }
  },
  {
   "cell_type": "code",
   "execution_count": 199,
   "outputs": [],
   "source": [
    "import pandas as pd\n",
    "import seaborn as sns\n",
    "import matplotlib as plt\n",
    "import numpy as np"
   ],
   "metadata": {
    "collapsed": false,
    "ExecuteTime": {
     "end_time": "2023-05-26T01:37:46.394440500Z",
     "start_time": "2023-05-26T01:37:46.343948800Z"
    }
   }
  },
  {
   "cell_type": "markdown",
   "source": [
    "### Lendo o arquivo com os dados"
   ],
   "metadata": {
    "collapsed": false
   }
  },
  {
   "cell_type": "code",
   "execution_count": 200,
   "outputs": [
    {
     "ename": "KeyboardInterrupt",
     "evalue": "",
     "output_type": "error",
     "traceback": [
      "\u001B[1;31m---------------------------------------------------------------------------\u001B[0m",
      "\u001B[1;31mKeyboardInterrupt\u001B[0m                         Traceback (most recent call last)",
      "Cell \u001B[1;32mIn[200], line 1\u001B[0m\n\u001B[1;32m----> 1\u001B[0m dados \u001B[38;5;241m=\u001B[39m \u001B[43mpd\u001B[49m\u001B[38;5;241;43m.\u001B[39;49m\u001B[43mread_excel\u001B[49m\u001B[43m(\u001B[49m\u001B[38;5;124;43m'\u001B[39;49m\u001B[38;5;124;43m./Dados de estudantes da UFV - 2022-12-12.ods\u001B[39;49m\u001B[38;5;124;43m'\u001B[39;49m\u001B[43m)\u001B[49m\n\u001B[0;32m      2\u001B[0m dados\n",
      "File \u001B[1;32m~\\anaconda3\\lib\\site-packages\\pandas\\util\\_decorators.py:211\u001B[0m, in \u001B[0;36mdeprecate_kwarg.<locals>._deprecate_kwarg.<locals>.wrapper\u001B[1;34m(*args, **kwargs)\u001B[0m\n\u001B[0;32m    209\u001B[0m     \u001B[38;5;28;01melse\u001B[39;00m:\n\u001B[0;32m    210\u001B[0m         kwargs[new_arg_name] \u001B[38;5;241m=\u001B[39m new_arg_value\n\u001B[1;32m--> 211\u001B[0m \u001B[38;5;28;01mreturn\u001B[39;00m func(\u001B[38;5;241m*\u001B[39margs, \u001B[38;5;241m*\u001B[39m\u001B[38;5;241m*\u001B[39mkwargs)\n",
      "File \u001B[1;32m~\\anaconda3\\lib\\site-packages\\pandas\\util\\_decorators.py:331\u001B[0m, in \u001B[0;36mdeprecate_nonkeyword_arguments.<locals>.decorate.<locals>.wrapper\u001B[1;34m(*args, **kwargs)\u001B[0m\n\u001B[0;32m    325\u001B[0m \u001B[38;5;28;01mif\u001B[39;00m \u001B[38;5;28mlen\u001B[39m(args) \u001B[38;5;241m>\u001B[39m num_allow_args:\n\u001B[0;32m    326\u001B[0m     warnings\u001B[38;5;241m.\u001B[39mwarn(\n\u001B[0;32m    327\u001B[0m         msg\u001B[38;5;241m.\u001B[39mformat(arguments\u001B[38;5;241m=\u001B[39m_format_argument_list(allow_args)),\n\u001B[0;32m    328\u001B[0m         \u001B[38;5;167;01mFutureWarning\u001B[39;00m,\n\u001B[0;32m    329\u001B[0m         stacklevel\u001B[38;5;241m=\u001B[39mfind_stack_level(),\n\u001B[0;32m    330\u001B[0m     )\n\u001B[1;32m--> 331\u001B[0m \u001B[38;5;28;01mreturn\u001B[39;00m func(\u001B[38;5;241m*\u001B[39margs, \u001B[38;5;241m*\u001B[39m\u001B[38;5;241m*\u001B[39mkwargs)\n",
      "File \u001B[1;32m~\\anaconda3\\lib\\site-packages\\pandas\\io\\excel\\_base.py:482\u001B[0m, in \u001B[0;36mread_excel\u001B[1;34m(io, sheet_name, header, names, index_col, usecols, squeeze, dtype, engine, converters, true_values, false_values, skiprows, nrows, na_values, keep_default_na, na_filter, verbose, parse_dates, date_parser, thousands, decimal, comment, skipfooter, convert_float, mangle_dupe_cols, storage_options)\u001B[0m\n\u001B[0;32m    480\u001B[0m \u001B[38;5;28;01mif\u001B[39;00m \u001B[38;5;129;01mnot\u001B[39;00m \u001B[38;5;28misinstance\u001B[39m(io, ExcelFile):\n\u001B[0;32m    481\u001B[0m     should_close \u001B[38;5;241m=\u001B[39m \u001B[38;5;28;01mTrue\u001B[39;00m\n\u001B[1;32m--> 482\u001B[0m     io \u001B[38;5;241m=\u001B[39m \u001B[43mExcelFile\u001B[49m\u001B[43m(\u001B[49m\u001B[43mio\u001B[49m\u001B[43m,\u001B[49m\u001B[43m \u001B[49m\u001B[43mstorage_options\u001B[49m\u001B[38;5;241;43m=\u001B[39;49m\u001B[43mstorage_options\u001B[49m\u001B[43m,\u001B[49m\u001B[43m \u001B[49m\u001B[43mengine\u001B[49m\u001B[38;5;241;43m=\u001B[39;49m\u001B[43mengine\u001B[49m\u001B[43m)\u001B[49m\n\u001B[0;32m    483\u001B[0m \u001B[38;5;28;01melif\u001B[39;00m engine \u001B[38;5;129;01mand\u001B[39;00m engine \u001B[38;5;241m!=\u001B[39m io\u001B[38;5;241m.\u001B[39mengine:\n\u001B[0;32m    484\u001B[0m     \u001B[38;5;28;01mraise\u001B[39;00m \u001B[38;5;167;01mValueError\u001B[39;00m(\n\u001B[0;32m    485\u001B[0m         \u001B[38;5;124m\"\u001B[39m\u001B[38;5;124mEngine should not be specified when passing \u001B[39m\u001B[38;5;124m\"\u001B[39m\n\u001B[0;32m    486\u001B[0m         \u001B[38;5;124m\"\u001B[39m\u001B[38;5;124man ExcelFile - ExcelFile already has the engine set\u001B[39m\u001B[38;5;124m\"\u001B[39m\n\u001B[0;32m    487\u001B[0m     )\n",
      "File \u001B[1;32m~\\anaconda3\\lib\\site-packages\\pandas\\io\\excel\\_base.py:1695\u001B[0m, in \u001B[0;36mExcelFile.__init__\u001B[1;34m(self, path_or_buffer, engine, storage_options)\u001B[0m\n\u001B[0;32m   1692\u001B[0m \u001B[38;5;28mself\u001B[39m\u001B[38;5;241m.\u001B[39mengine \u001B[38;5;241m=\u001B[39m engine\n\u001B[0;32m   1693\u001B[0m \u001B[38;5;28mself\u001B[39m\u001B[38;5;241m.\u001B[39mstorage_options \u001B[38;5;241m=\u001B[39m storage_options\n\u001B[1;32m-> 1695\u001B[0m \u001B[38;5;28mself\u001B[39m\u001B[38;5;241m.\u001B[39m_reader \u001B[38;5;241m=\u001B[39m \u001B[38;5;28;43mself\u001B[39;49m\u001B[38;5;241;43m.\u001B[39;49m\u001B[43m_engines\u001B[49m\u001B[43m[\u001B[49m\u001B[43mengine\u001B[49m\u001B[43m]\u001B[49m\u001B[43m(\u001B[49m\u001B[38;5;28;43mself\u001B[39;49m\u001B[38;5;241;43m.\u001B[39;49m\u001B[43m_io\u001B[49m\u001B[43m,\u001B[49m\u001B[43m \u001B[49m\u001B[43mstorage_options\u001B[49m\u001B[38;5;241;43m=\u001B[39;49m\u001B[43mstorage_options\u001B[49m\u001B[43m)\u001B[49m\n",
      "File \u001B[1;32m~\\anaconda3\\lib\\site-packages\\pandas\\io\\excel\\_odfreader.py:46\u001B[0m, in \u001B[0;36mODFReader.__init__\u001B[1;34m(self, filepath_or_buffer, storage_options)\u001B[0m\n\u001B[0;32m     40\u001B[0m \u001B[38;5;28;01mdef\u001B[39;00m \u001B[38;5;21m__init__\u001B[39m(\n\u001B[0;32m     41\u001B[0m     \u001B[38;5;28mself\u001B[39m,\n\u001B[0;32m     42\u001B[0m     filepath_or_buffer: FilePath \u001B[38;5;241m|\u001B[39m ReadBuffer[\u001B[38;5;28mbytes\u001B[39m],\n\u001B[0;32m     43\u001B[0m     storage_options: StorageOptions \u001B[38;5;241m=\u001B[39m \u001B[38;5;28;01mNone\u001B[39;00m,\n\u001B[0;32m     44\u001B[0m ) \u001B[38;5;241m-\u001B[39m\u001B[38;5;241m>\u001B[39m \u001B[38;5;28;01mNone\u001B[39;00m:\n\u001B[0;32m     45\u001B[0m     import_optional_dependency(\u001B[38;5;124m\"\u001B[39m\u001B[38;5;124modf\u001B[39m\u001B[38;5;124m\"\u001B[39m)\n\u001B[1;32m---> 46\u001B[0m     \u001B[38;5;28;43msuper\u001B[39;49m\u001B[43m(\u001B[49m\u001B[43m)\u001B[49m\u001B[38;5;241;43m.\u001B[39;49m\u001B[38;5;21;43m__init__\u001B[39;49m\u001B[43m(\u001B[49m\u001B[43mfilepath_or_buffer\u001B[49m\u001B[43m,\u001B[49m\u001B[43m \u001B[49m\u001B[43mstorage_options\u001B[49m\u001B[38;5;241;43m=\u001B[39;49m\u001B[43mstorage_options\u001B[49m\u001B[43m)\u001B[49m\n",
      "File \u001B[1;32m~\\anaconda3\\lib\\site-packages\\pandas\\io\\excel\\_base.py:545\u001B[0m, in \u001B[0;36mBaseExcelReader.__init__\u001B[1;34m(self, filepath_or_buffer, storage_options)\u001B[0m\n\u001B[0;32m    543\u001B[0m \u001B[38;5;28mself\u001B[39m\u001B[38;5;241m.\u001B[39mhandles\u001B[38;5;241m.\u001B[39mhandle\u001B[38;5;241m.\u001B[39mseek(\u001B[38;5;241m0\u001B[39m)\n\u001B[0;32m    544\u001B[0m \u001B[38;5;28;01mtry\u001B[39;00m:\n\u001B[1;32m--> 545\u001B[0m     \u001B[38;5;28mself\u001B[39m\u001B[38;5;241m.\u001B[39mbook \u001B[38;5;241m=\u001B[39m \u001B[38;5;28;43mself\u001B[39;49m\u001B[38;5;241;43m.\u001B[39;49m\u001B[43mload_workbook\u001B[49m\u001B[43m(\u001B[49m\u001B[38;5;28;43mself\u001B[39;49m\u001B[38;5;241;43m.\u001B[39;49m\u001B[43mhandles\u001B[49m\u001B[38;5;241;43m.\u001B[39;49m\u001B[43mhandle\u001B[49m\u001B[43m)\u001B[49m\n\u001B[0;32m    546\u001B[0m \u001B[38;5;28;01mexcept\u001B[39;00m \u001B[38;5;167;01mException\u001B[39;00m:\n\u001B[0;32m    547\u001B[0m     \u001B[38;5;28mself\u001B[39m\u001B[38;5;241m.\u001B[39mclose()\n",
      "File \u001B[1;32m~\\anaconda3\\lib\\site-packages\\pandas\\io\\excel\\_odfreader.py:57\u001B[0m, in \u001B[0;36mODFReader.load_workbook\u001B[1;34m(self, filepath_or_buffer)\u001B[0m\n\u001B[0;32m     54\u001B[0m \u001B[38;5;28;01mdef\u001B[39;00m \u001B[38;5;21mload_workbook\u001B[39m(\u001B[38;5;28mself\u001B[39m, filepath_or_buffer: FilePath \u001B[38;5;241m|\u001B[39m ReadBuffer[\u001B[38;5;28mbytes\u001B[39m]):\n\u001B[0;32m     55\u001B[0m     \u001B[38;5;28;01mfrom\u001B[39;00m \u001B[38;5;21;01modf\u001B[39;00m\u001B[38;5;21;01m.\u001B[39;00m\u001B[38;5;21;01mopendocument\u001B[39;00m \u001B[38;5;28;01mimport\u001B[39;00m load\n\u001B[1;32m---> 57\u001B[0m     \u001B[38;5;28;01mreturn\u001B[39;00m \u001B[43mload\u001B[49m\u001B[43m(\u001B[49m\u001B[43mfilepath_or_buffer\u001B[49m\u001B[43m)\u001B[49m\n",
      "File \u001B[1;32m~\\anaconda3\\lib\\site-packages\\odf\\opendocument.py:989\u001B[0m, in \u001B[0;36mload\u001B[1;34m(odffile)\u001B[0m\n\u001B[0;32m    987\u001B[0m manifestpart \u001B[38;5;241m=\u001B[39m z\u001B[38;5;241m.\u001B[39mread(\u001B[38;5;124m'\u001B[39m\u001B[38;5;124mMETA-INF/manifest.xml\u001B[39m\u001B[38;5;124m'\u001B[39m)\n\u001B[0;32m    988\u001B[0m manifest \u001B[38;5;241m=\u001B[39m  manifestlist(manifestpart)\n\u001B[1;32m--> 989\u001B[0m \u001B[43m__loadxmlparts\u001B[49m\u001B[43m(\u001B[49m\u001B[43mz\u001B[49m\u001B[43m,\u001B[49m\u001B[43m \u001B[49m\u001B[43mmanifest\u001B[49m\u001B[43m,\u001B[49m\u001B[43m \u001B[49m\u001B[43mdoc\u001B[49m\u001B[43m,\u001B[49m\u001B[43m \u001B[49m\u001B[38;5;124;43mu\u001B[39;49m\u001B[38;5;124;43m'\u001B[39;49m\u001B[38;5;124;43m'\u001B[39;49m\u001B[43m)\u001B[49m\n\u001B[0;32m    990\u001B[0m \u001B[38;5;28;01mfor\u001B[39;00m mentry,mvalue \u001B[38;5;129;01min\u001B[39;00m manifest\u001B[38;5;241m.\u001B[39mitems():\n\u001B[0;32m    991\u001B[0m     \u001B[38;5;28;01mif\u001B[39;00m mentry[:\u001B[38;5;241m9\u001B[39m] \u001B[38;5;241m==\u001B[39m \u001B[38;5;124mu\u001B[39m\u001B[38;5;124m\"\u001B[39m\u001B[38;5;124mPictures/\u001B[39m\u001B[38;5;124m\"\u001B[39m \u001B[38;5;129;01mand\u001B[39;00m \u001B[38;5;28mlen\u001B[39m(mentry) \u001B[38;5;241m>\u001B[39m \u001B[38;5;241m9\u001B[39m:\n",
      "File \u001B[1;32m~\\anaconda3\\lib\\site-packages\\odf\\opendocument.py:916\u001B[0m, in \u001B[0;36m__loadxmlparts\u001B[1;34m(z, manifest, doc, objectpath)\u001B[0m\n\u001B[0;32m    913\u001B[0m     xmlpart\u001B[38;5;241m=\u001B[39m__fixXmlPart(xmlpart)\n\u001B[0;32m    915\u001B[0m     inpsrc\u001B[38;5;241m.\u001B[39msetByteStream(BytesIO(xmlpart\u001B[38;5;241m.\u001B[39mencode(\u001B[38;5;124m\"\u001B[39m\u001B[38;5;124mutf-8\u001B[39m\u001B[38;5;124m\"\u001B[39m)))\n\u001B[1;32m--> 916\u001B[0m     \u001B[43mparser\u001B[49m\u001B[38;5;241;43m.\u001B[39;49m\u001B[43mparse\u001B[49m\u001B[43m(\u001B[49m\u001B[43minpsrc\u001B[49m\u001B[43m)\u001B[49m\n\u001B[0;32m    917\u001B[0m     \u001B[38;5;28;01mdel\u001B[39;00m doc\u001B[38;5;241m.\u001B[39m_parsing\n\u001B[0;32m    918\u001B[0m \u001B[38;5;28;01mexcept\u001B[39;00m \u001B[38;5;167;01mKeyError\u001B[39;00m \u001B[38;5;28;01mas\u001B[39;00m v: \u001B[38;5;28;01mpass\u001B[39;00m\n",
      "File \u001B[1;32m~\\anaconda3\\lib\\xml\\sax\\expatreader.py:111\u001B[0m, in \u001B[0;36mExpatParser.parse\u001B[1;34m(self, source)\u001B[0m\n\u001B[0;32m    109\u001B[0m     \u001B[38;5;28mself\u001B[39m\u001B[38;5;241m.\u001B[39mreset()\n\u001B[0;32m    110\u001B[0m     \u001B[38;5;28mself\u001B[39m\u001B[38;5;241m.\u001B[39m_cont_handler\u001B[38;5;241m.\u001B[39msetDocumentLocator(ExpatLocator(\u001B[38;5;28mself\u001B[39m))\n\u001B[1;32m--> 111\u001B[0m     \u001B[43mxmlreader\u001B[49m\u001B[38;5;241;43m.\u001B[39;49m\u001B[43mIncrementalParser\u001B[49m\u001B[38;5;241;43m.\u001B[39;49m\u001B[43mparse\u001B[49m\u001B[43m(\u001B[49m\u001B[38;5;28;43mself\u001B[39;49m\u001B[43m,\u001B[49m\u001B[43m \u001B[49m\u001B[43msource\u001B[49m\u001B[43m)\u001B[49m\n\u001B[0;32m    112\u001B[0m \u001B[38;5;28;01mexcept\u001B[39;00m:\n\u001B[0;32m    113\u001B[0m     \u001B[38;5;66;03m# bpo-30264: Close the source on error to not leak resources:\u001B[39;00m\n\u001B[0;32m    114\u001B[0m     \u001B[38;5;66;03m# xml.sax.parse() doesn't give access to the underlying parser\u001B[39;00m\n\u001B[0;32m    115\u001B[0m     \u001B[38;5;66;03m# to the caller\u001B[39;00m\n\u001B[0;32m    116\u001B[0m     \u001B[38;5;28mself\u001B[39m\u001B[38;5;241m.\u001B[39m_close_source()\n",
      "File \u001B[1;32m~\\anaconda3\\lib\\xml\\sax\\xmlreader.py:125\u001B[0m, in \u001B[0;36mIncrementalParser.parse\u001B[1;34m(self, source)\u001B[0m\n\u001B[0;32m    123\u001B[0m buffer \u001B[38;5;241m=\u001B[39m file\u001B[38;5;241m.\u001B[39mread(\u001B[38;5;28mself\u001B[39m\u001B[38;5;241m.\u001B[39m_bufsize)\n\u001B[0;32m    124\u001B[0m \u001B[38;5;28;01mwhile\u001B[39;00m buffer:\n\u001B[1;32m--> 125\u001B[0m     \u001B[38;5;28;43mself\u001B[39;49m\u001B[38;5;241;43m.\u001B[39;49m\u001B[43mfeed\u001B[49m\u001B[43m(\u001B[49m\u001B[43mbuffer\u001B[49m\u001B[43m)\u001B[49m\n\u001B[0;32m    126\u001B[0m     buffer \u001B[38;5;241m=\u001B[39m file\u001B[38;5;241m.\u001B[39mread(\u001B[38;5;28mself\u001B[39m\u001B[38;5;241m.\u001B[39m_bufsize)\n\u001B[0;32m    127\u001B[0m \u001B[38;5;28mself\u001B[39m\u001B[38;5;241m.\u001B[39mclose()\n",
      "File \u001B[1;32m~\\anaconda3\\lib\\xml\\sax\\expatreader.py:217\u001B[0m, in \u001B[0;36mExpatParser.feed\u001B[1;34m(self, data, isFinal)\u001B[0m\n\u001B[0;32m    210\u001B[0m     \u001B[38;5;28mself\u001B[39m\u001B[38;5;241m.\u001B[39m_cont_handler\u001B[38;5;241m.\u001B[39mstartDocument()\n\u001B[0;32m    212\u001B[0m \u001B[38;5;28;01mtry\u001B[39;00m:\n\u001B[0;32m    213\u001B[0m     \u001B[38;5;66;03m# The isFinal parameter is internal to the expat reader.\u001B[39;00m\n\u001B[0;32m    214\u001B[0m     \u001B[38;5;66;03m# If it is set to true, expat will check validity of the entire\u001B[39;00m\n\u001B[0;32m    215\u001B[0m     \u001B[38;5;66;03m# document. When feeding chunks, they are not normally final -\u001B[39;00m\n\u001B[0;32m    216\u001B[0m     \u001B[38;5;66;03m# except when invoked from close.\u001B[39;00m\n\u001B[1;32m--> 217\u001B[0m     \u001B[38;5;28;43mself\u001B[39;49m\u001B[38;5;241;43m.\u001B[39;49m\u001B[43m_parser\u001B[49m\u001B[38;5;241;43m.\u001B[39;49m\u001B[43mParse\u001B[49m\u001B[43m(\u001B[49m\u001B[43mdata\u001B[49m\u001B[43m,\u001B[49m\u001B[43m \u001B[49m\u001B[43misFinal\u001B[49m\u001B[43m)\u001B[49m\n\u001B[0;32m    218\u001B[0m \u001B[38;5;28;01mexcept\u001B[39;00m expat\u001B[38;5;241m.\u001B[39merror \u001B[38;5;28;01mas\u001B[39;00m e:\n\u001B[0;32m    219\u001B[0m     exc \u001B[38;5;241m=\u001B[39m SAXParseException(expat\u001B[38;5;241m.\u001B[39mErrorString(e\u001B[38;5;241m.\u001B[39mcode), e, \u001B[38;5;28mself\u001B[39m)\n",
      "File \u001B[1;32mc:\\b\\abs_32alxuney8\\croot\\python-split_1677694494207\\work\\modules\\pyexpat.c:407\u001B[0m, in \u001B[0;36mStartElement\u001B[1;34m()\u001B[0m\n",
      "File \u001B[1;32m~\\anaconda3\\lib\\xml\\sax\\expatreader.py:339\u001B[0m, in \u001B[0;36mExpatParser.start_element_ns\u001B[1;34m(self, name, attrs)\u001B[0m\n\u001B[0;32m    338\u001B[0m \u001B[38;5;28;01mdef\u001B[39;00m \u001B[38;5;21mstart_element_ns\u001B[39m(\u001B[38;5;28mself\u001B[39m, name, attrs):\n\u001B[1;32m--> 339\u001B[0m     pair \u001B[38;5;241m=\u001B[39m \u001B[43mname\u001B[49m\u001B[38;5;241;43m.\u001B[39;49m\u001B[43msplit\u001B[49m()\n\u001B[0;32m    340\u001B[0m     \u001B[38;5;28;01mif\u001B[39;00m \u001B[38;5;28mlen\u001B[39m(pair) \u001B[38;5;241m==\u001B[39m \u001B[38;5;241m1\u001B[39m:\n\u001B[0;32m    341\u001B[0m         \u001B[38;5;66;03m# no namespace\u001B[39;00m\n\u001B[0;32m    342\u001B[0m         pair \u001B[38;5;241m=\u001B[39m (\u001B[38;5;28;01mNone\u001B[39;00m, name)\n",
      "\u001B[1;31mKeyboardInterrupt\u001B[0m: "
     ]
    }
   ],
   "source": [
    "dados = pd.read_excel('./Dados de estudantes da UFV - 2022-12-12.ods')\n",
    "dados"
   ],
   "metadata": {
    "collapsed": false,
    "ExecuteTime": {
     "end_time": "2023-05-26T01:37:57.319664600Z",
     "start_time": "2023-05-26T01:37:52.582223200Z"
    }
   }
  },
  {
   "cell_type": "markdown",
   "source": [
    "### Verificando as 5 primeiras linhas do DataFrame"
   ],
   "metadata": {
    "collapsed": false
   }
  },
  {
   "cell_type": "code",
   "execution_count": 260,
   "outputs": [
    {
     "data": {
      "text/plain": "   Identificador  Ano_Nascimento Sexo Campus  Curso_Identificador  \\\n0          29271          1982.0    M    CAV                 1101   \n1          29272          1982.0    M    CAV                 1101   \n2          34462          1979.0    F    CAV                 1101   \n3          34468          1979.0    F    CAV                 1101   \n4          34470          1980.0    F    CAV                 1101   \n\n                 Curso UF_Nascimento            Municipio_Nascimento Admissao  \\\n0  CAV - Administração            RJ  VOLTA REDONDA                    2000/1   \n1  CAV - Administração            DF                        Brasília   2000/1   \n2  CAV - Administração            MG                          Viçosa   2000/1   \n3  CAV - Administração            MG                  Belo Horizonte   2000/1   \n4  CAV - Administração            SP                       São Paulo   2000/1   \n\n    Saida Codigo_Situacao_Aluno  \\\n0  2000/1                     A   \n1  2002/1                     A   \n2  2005/1                     C   \n3  2006/1                     C   \n4  2004/2                     C   \n\n                                      Situacao_Aluno Situacao_Aluno_Agrupada  \\\n0  Abandono                                      ...                  Evasão   \n1  Abandono                                      ...                  Evasão   \n2  Conclusão                                     ...               Conclusão   \n3  Conclusão                                     ...               Conclusão   \n4  Conclusão                                     ...               Conclusão   \n\n   Modalidade_Inscrita  ENEM  Num_Reprovacoes                       Raca   CRA  \n0                  0.0   NaN                0  Informação não disponível   0.0  \n1                  0.0   NaN                3  Informação não disponível  71.2  \n2                  0.0   NaN                3  Informação não disponível  78.5  \n3                  0.0   NaN               20                   Pardo(a)  56.0  \n4                  0.0   NaN                1  Informação não disponível  76.9  ",
      "text/html": "<div>\n<style scoped>\n    .dataframe tbody tr th:only-of-type {\n        vertical-align: middle;\n    }\n\n    .dataframe tbody tr th {\n        vertical-align: top;\n    }\n\n    .dataframe thead th {\n        text-align: right;\n    }\n</style>\n<table border=\"1\" class=\"dataframe\">\n  <thead>\n    <tr style=\"text-align: right;\">\n      <th></th>\n      <th>Identificador</th>\n      <th>Ano_Nascimento</th>\n      <th>Sexo</th>\n      <th>Campus</th>\n      <th>Curso_Identificador</th>\n      <th>Curso</th>\n      <th>UF_Nascimento</th>\n      <th>Municipio_Nascimento</th>\n      <th>Admissao</th>\n      <th>Saida</th>\n      <th>Codigo_Situacao_Aluno</th>\n      <th>Situacao_Aluno</th>\n      <th>Situacao_Aluno_Agrupada</th>\n      <th>Modalidade_Inscrita</th>\n      <th>ENEM</th>\n      <th>Num_Reprovacoes</th>\n      <th>Raca</th>\n      <th>CRA</th>\n    </tr>\n  </thead>\n  <tbody>\n    <tr>\n      <th>0</th>\n      <td>29271</td>\n      <td>1982.0</td>\n      <td>M</td>\n      <td>CAV</td>\n      <td>1101</td>\n      <td>CAV - Administração</td>\n      <td>RJ</td>\n      <td>VOLTA REDONDA</td>\n      <td>2000/1</td>\n      <td>2000/1</td>\n      <td>A</td>\n      <td>Abandono                                      ...</td>\n      <td>Evasão</td>\n      <td>0.0</td>\n      <td>NaN</td>\n      <td>0</td>\n      <td>Informação não disponível</td>\n      <td>0.0</td>\n    </tr>\n    <tr>\n      <th>1</th>\n      <td>29272</td>\n      <td>1982.0</td>\n      <td>M</td>\n      <td>CAV</td>\n      <td>1101</td>\n      <td>CAV - Administração</td>\n      <td>DF</td>\n      <td>Brasília</td>\n      <td>2000/1</td>\n      <td>2002/1</td>\n      <td>A</td>\n      <td>Abandono                                      ...</td>\n      <td>Evasão</td>\n      <td>0.0</td>\n      <td>NaN</td>\n      <td>3</td>\n      <td>Informação não disponível</td>\n      <td>71.2</td>\n    </tr>\n    <tr>\n      <th>2</th>\n      <td>34462</td>\n      <td>1979.0</td>\n      <td>F</td>\n      <td>CAV</td>\n      <td>1101</td>\n      <td>CAV - Administração</td>\n      <td>MG</td>\n      <td>Viçosa</td>\n      <td>2000/1</td>\n      <td>2005/1</td>\n      <td>C</td>\n      <td>Conclusão                                     ...</td>\n      <td>Conclusão</td>\n      <td>0.0</td>\n      <td>NaN</td>\n      <td>3</td>\n      <td>Informação não disponível</td>\n      <td>78.5</td>\n    </tr>\n    <tr>\n      <th>3</th>\n      <td>34468</td>\n      <td>1979.0</td>\n      <td>F</td>\n      <td>CAV</td>\n      <td>1101</td>\n      <td>CAV - Administração</td>\n      <td>MG</td>\n      <td>Belo Horizonte</td>\n      <td>2000/1</td>\n      <td>2006/1</td>\n      <td>C</td>\n      <td>Conclusão                                     ...</td>\n      <td>Conclusão</td>\n      <td>0.0</td>\n      <td>NaN</td>\n      <td>20</td>\n      <td>Pardo(a)</td>\n      <td>56.0</td>\n    </tr>\n    <tr>\n      <th>4</th>\n      <td>34470</td>\n      <td>1980.0</td>\n      <td>F</td>\n      <td>CAV</td>\n      <td>1101</td>\n      <td>CAV - Administração</td>\n      <td>SP</td>\n      <td>São Paulo</td>\n      <td>2000/1</td>\n      <td>2004/2</td>\n      <td>C</td>\n      <td>Conclusão                                     ...</td>\n      <td>Conclusão</td>\n      <td>0.0</td>\n      <td>NaN</td>\n      <td>1</td>\n      <td>Informação não disponível</td>\n      <td>76.9</td>\n    </tr>\n  </tbody>\n</table>\n</div>"
     },
     "execution_count": 260,
     "metadata": {},
     "output_type": "execute_result"
    }
   ],
   "source": [
    "dados.head()"
   ],
   "metadata": {
    "collapsed": false,
    "ExecuteTime": {
     "end_time": "2023-05-26T02:28:25.827105Z",
     "start_time": "2023-05-26T02:28:25.093688800Z"
    }
   }
  },
  {
   "cell_type": "markdown",
   "source": [
    "### Informação sobre o conteúdo dos dados"
   ],
   "metadata": {
    "collapsed": false
   }
  },
  {
   "cell_type": "code",
   "execution_count": 261,
   "outputs": [
    {
     "name": "stdout",
     "output_type": "stream",
     "text": [
      "<class 'pandas.core.frame.DataFrame'>\n",
      "RangeIndex: 74026 entries, 0 to 74025\n",
      "Data columns (total 18 columns):\n",
      " #   Column                   Non-Null Count  Dtype  \n",
      "---  ------                   --------------  -----  \n",
      " 0   Identificador            74026 non-null  int64  \n",
      " 1   Ano_Nascimento           73949 non-null  float64\n",
      " 2   Sexo                     73986 non-null  object \n",
      " 3   Campus                   74026 non-null  object \n",
      " 4   Curso_Identificador      74026 non-null  int64  \n",
      " 5   Curso                    74026 non-null  object \n",
      " 6   UF_Nascimento            73971 non-null  object \n",
      " 7   Municipio_Nascimento     73990 non-null  object \n",
      " 8   Admissao                 74026 non-null  object \n",
      " 9   Saida                    74026 non-null  object \n",
      " 10  Codigo_Situacao_Aluno    74026 non-null  object \n",
      " 11  Situacao_Aluno           74026 non-null  object \n",
      " 12  Situacao_Aluno_Agrupada  74026 non-null  object \n",
      " 13  Modalidade_Inscrita      68753 non-null  float64\n",
      " 14  ENEM                     39183 non-null  float64\n",
      " 15  Num_Reprovacoes          74026 non-null  int64  \n",
      " 16  Raca                     74026 non-null  object \n",
      " 17  CRA                      74016 non-null  float64\n",
      "dtypes: float64(4), int64(3), object(11)\n",
      "memory usage: 10.2+ MB\n"
     ]
    }
   ],
   "source": [
    "dados.info()"
   ],
   "metadata": {
    "collapsed": false,
    "ExecuteTime": {
     "end_time": "2023-05-26T02:28:25.875298500Z",
     "start_time": "2023-05-26T02:28:25.114630700Z"
    }
   }
  },
  {
   "cell_type": "markdown",
   "source": [
    "### Descrição dos dados"
   ],
   "metadata": {
    "collapsed": false
   }
  },
  {
   "cell_type": "code",
   "execution_count": 262,
   "outputs": [
    {
     "data": {
      "text/plain": "       Identificador  Ano_Nascimento  Curso_Identificador  \\\ncount   7.402600e+04    73949.000000         74026.000000   \nmean    4.914848e+06     1990.876442          1427.490963   \nstd     1.032870e+07        8.366123           653.483918   \nmin     5.471000e+03     1900.000000          1101.000000   \n25%     6.667525e+04     1986.000000          1112.000000   \n50%     1.119175e+05     1992.000000          1127.000000   \n75%     1.622678e+05     1997.000000          1149.000000   \nmax     3.001076e+07     2022.000000          3112.000000   \n\n       Modalidade_Inscrita          ENEM  Num_Reprovacoes           CRA  \ncount         68753.000000  39183.000000     74026.000000  74016.000000  \nmean              3.457725    629.164453         4.968444     61.882511  \nstd               3.957373     68.806862         5.946912     24.364191  \nmin               0.000000    253.240000         0.000000      0.000000  \n25%               0.000000    587.660000         0.000000     51.400000  \n50%               1.000000    634.580000         3.000000     69.600000  \n75%               9.000000    676.260000         7.000000     79.300000  \nmax               9.000000    847.380000        93.000000    100.000000  ",
      "text/html": "<div>\n<style scoped>\n    .dataframe tbody tr th:only-of-type {\n        vertical-align: middle;\n    }\n\n    .dataframe tbody tr th {\n        vertical-align: top;\n    }\n\n    .dataframe thead th {\n        text-align: right;\n    }\n</style>\n<table border=\"1\" class=\"dataframe\">\n  <thead>\n    <tr style=\"text-align: right;\">\n      <th></th>\n      <th>Identificador</th>\n      <th>Ano_Nascimento</th>\n      <th>Curso_Identificador</th>\n      <th>Modalidade_Inscrita</th>\n      <th>ENEM</th>\n      <th>Num_Reprovacoes</th>\n      <th>CRA</th>\n    </tr>\n  </thead>\n  <tbody>\n    <tr>\n      <th>count</th>\n      <td>7.402600e+04</td>\n      <td>73949.000000</td>\n      <td>74026.000000</td>\n      <td>68753.000000</td>\n      <td>39183.000000</td>\n      <td>74026.000000</td>\n      <td>74016.000000</td>\n    </tr>\n    <tr>\n      <th>mean</th>\n      <td>4.914848e+06</td>\n      <td>1990.876442</td>\n      <td>1427.490963</td>\n      <td>3.457725</td>\n      <td>629.164453</td>\n      <td>4.968444</td>\n      <td>61.882511</td>\n    </tr>\n    <tr>\n      <th>std</th>\n      <td>1.032870e+07</td>\n      <td>8.366123</td>\n      <td>653.483918</td>\n      <td>3.957373</td>\n      <td>68.806862</td>\n      <td>5.946912</td>\n      <td>24.364191</td>\n    </tr>\n    <tr>\n      <th>min</th>\n      <td>5.471000e+03</td>\n      <td>1900.000000</td>\n      <td>1101.000000</td>\n      <td>0.000000</td>\n      <td>253.240000</td>\n      <td>0.000000</td>\n      <td>0.000000</td>\n    </tr>\n    <tr>\n      <th>25%</th>\n      <td>6.667525e+04</td>\n      <td>1986.000000</td>\n      <td>1112.000000</td>\n      <td>0.000000</td>\n      <td>587.660000</td>\n      <td>0.000000</td>\n      <td>51.400000</td>\n    </tr>\n    <tr>\n      <th>50%</th>\n      <td>1.119175e+05</td>\n      <td>1992.000000</td>\n      <td>1127.000000</td>\n      <td>1.000000</td>\n      <td>634.580000</td>\n      <td>3.000000</td>\n      <td>69.600000</td>\n    </tr>\n    <tr>\n      <th>75%</th>\n      <td>1.622678e+05</td>\n      <td>1997.000000</td>\n      <td>1149.000000</td>\n      <td>9.000000</td>\n      <td>676.260000</td>\n      <td>7.000000</td>\n      <td>79.300000</td>\n    </tr>\n    <tr>\n      <th>max</th>\n      <td>3.001076e+07</td>\n      <td>2022.000000</td>\n      <td>3112.000000</td>\n      <td>9.000000</td>\n      <td>847.380000</td>\n      <td>93.000000</td>\n      <td>100.000000</td>\n    </tr>\n  </tbody>\n</table>\n</div>"
     },
     "execution_count": 262,
     "metadata": {},
     "output_type": "execute_result"
    }
   ],
   "source": [
    "dados.describe()"
   ],
   "metadata": {
    "collapsed": false,
    "ExecuteTime": {
     "end_time": "2023-05-26T02:28:25.890399300Z",
     "start_time": "2023-05-26T02:28:25.247881600Z"
    }
   }
  },
  {
   "cell_type": "markdown",
   "source": [
    "### Verificando a quantidade de dados nulos em cada coluna"
   ],
   "metadata": {
    "collapsed": false
   }
  },
  {
   "cell_type": "code",
   "execution_count": 263,
   "outputs": [
    {
     "data": {
      "text/plain": "Identificador                  0\nAno_Nascimento                77\nSexo                          40\nCampus                         0\nCurso_Identificador            0\nCurso                          0\nUF_Nascimento                 55\nMunicipio_Nascimento          36\nAdmissao                       0\nSaida                          0\nCodigo_Situacao_Aluno          0\nSituacao_Aluno                 0\nSituacao_Aluno_Agrupada        0\nModalidade_Inscrita         5273\nENEM                       34843\nNum_Reprovacoes                0\nRaca                           0\nCRA                           10\ndtype: int64"
     },
     "execution_count": 263,
     "metadata": {},
     "output_type": "execute_result"
    }
   ],
   "source": [
    "dados.isnull().sum()"
   ],
   "metadata": {
    "collapsed": false,
    "ExecuteTime": {
     "end_time": "2023-05-26T02:28:25.930599400Z",
     "start_time": "2023-05-26T02:28:25.308398400Z"
    }
   }
  },
  {
   "cell_type": "markdown",
   "source": [
    "### Verificando valores únicos e contagem para cada atributo"
   ],
   "metadata": {
    "collapsed": false
   }
  },
  {
   "cell_type": "code",
   "execution_count": 264,
   "outputs": [
    {
     "name": "stdout",
     "output_type": "stream",
     "text": [
      "\n",
      "Identificador\n",
      "Variedade: 74026\n",
      "Dados: \n",
      "29271     1\n",
      "131589    1\n",
      "129368    1\n",
      "129365    1\n",
      "129354    1\n",
      "         ..\n",
      "76865     1\n",
      "76321     1\n",
      "76309     1\n",
      "76304     1\n",
      "172082    1\n",
      "Name: Identificador, Length: 74026, dtype: int64\n",
      "\n",
      "\n",
      "Ano_Nascimento\n",
      "Variedade: 71\n",
      "Dados: \n",
      "1991.0    3803\n",
      "1995.0    3746\n",
      "1993.0    3738\n",
      "1994.0    3737\n",
      "1996.0    3728\n",
      "          ... \n",
      "1942.0       1\n",
      "2008.0       1\n",
      "1943.0       1\n",
      "2015.0       1\n",
      "1938.0       1\n",
      "Name: Ano_Nascimento, Length: 71, dtype: int64\n",
      "\n",
      "\n",
      "Sexo\n",
      "Variedade: 2\n",
      "Dados: \n",
      "F    37032\n",
      "M    36954\n",
      "Name: Sexo, dtype: int64\n",
      "\n",
      "\n",
      "Campus\n",
      "Variedade: 3\n",
      "Dados: \n",
      "CAV    60339\n",
      "CRP     8413\n",
      "CAF     5274\n",
      "Name: Campus, dtype: int64\n",
      "\n",
      "\n",
      "Curso_Identificador\n",
      "Variedade: 79\n",
      "Dados: \n",
      "1103    5787\n",
      "1121    1974\n",
      "1113    1651\n",
      "1132    1637\n",
      "1114    1627\n",
      "        ... \n",
      "1424     243\n",
      "1154     217\n",
      "1418     205\n",
      "2102     160\n",
      "1423       1\n",
      "Name: Curso_Identificador, Length: 79, dtype: int64\n",
      "\n",
      "\n",
      "Curso\n",
      "Variedade: 93\n",
      "Dados: \n",
      "CAV - Agronomia                                                       5787\n",
      "CAV - Administração                                                   1982\n",
      "CAV - Zootecnia                                                       1974\n",
      "CAV - Engenharia Florestal                                            1651\n",
      "CAV - Geografia                                                       1637\n",
      "                                                                      ... \n",
      "CAF - Física - Licenciatura                                             83\n",
      "CAV - Administração - Habilitação em Administração de Cooperativas      35\n",
      "CAV - LETRAS                                                            10\n",
      "CAV - Biologia                                                           1\n",
      "CAV - LICENCIATURA EM FISICA                                             1\n",
      "Name: Curso, Length: 93, dtype: int64\n",
      "\n",
      "\n",
      "UF_Nascimento\n",
      "Variedade: 29\n",
      "Dados: \n",
      "MG    57331\n",
      "SP     6416\n",
      "RJ     3364\n",
      "ES     3185\n",
      "BA     1087\n",
      "GO      509\n",
      "DF      395\n",
      "PR      294\n",
      "PA      213\n",
      "MT      177\n",
      "RS      128\n",
      "MS      117\n",
      "RO      109\n",
      "MA      100\n",
      "PE       88\n",
      "SC       72\n",
      "TO       61\n",
      "CE       57\n",
      "AM       53\n",
      "SE       43\n",
      "AL       38\n",
      "PB       31\n",
      "RN       29\n",
      "AP       23\n",
      "PI       17\n",
      "AC       15\n",
      "RR       13\n",
      "          3\n",
      "          3\n",
      "Name: UF_Nascimento, dtype: int64\n",
      "\n",
      "\n",
      "Municipio_Nascimento\n",
      "Variedade: 3059\n",
      "Dados: \n",
      "Viçosa                     10664\n",
      "Belo Horizonte              5549\n",
      "Ponte Nova                  2419\n",
      "São Paulo                   2077\n",
      "Ubá                         1914\n",
      "                           ...  \n",
      "CAPINOPOLIS                    1\n",
      "Matias Barbosa                 1\n",
      "Montes claros                  1\n",
      "Santa Cruz da Conceição        1\n",
      "Falta Certidão                 1\n",
      "Name: Municipio_Nascimento, Length: 3059, dtype: int64\n",
      "\n",
      "\n",
      "Admissao\n",
      "Variedade: 53\n",
      "Dados: \n",
      "2017/1    4039\n",
      "2018/1    3962\n",
      "2016/1    3954\n",
      "2015/1    3944\n",
      "2014/1    3918\n",
      "2011/1    3853\n",
      "2013/1    3845\n",
      "2019/1    3794\n",
      "2012/1    3607\n",
      "2020/1    3591\n",
      "2010/1    3399\n",
      "2022/1    3261\n",
      "2021/1    3240\n",
      "2002/1    2854\n",
      "2009/1    2631\n",
      "2008/1    2355\n",
      "2006/1    2275\n",
      "2007/1    2068\n",
      "2005/1    1948\n",
      "2003/1    1947\n",
      "2004/1    1907\n",
      "2001/1    1781\n",
      "2000/1    1531\n",
      "2011/2     414\n",
      "2009/2     409\n",
      "2007/2     340\n",
      "2010/2     318\n",
      "2018/2     316\n",
      "2008/2     313\n",
      "2006/2     312\n",
      "2022/2     290\n",
      "2017/2     277\n",
      "2016/2     243\n",
      "2019/2     225\n",
      "2003/2     182\n",
      "2002/2     120\n",
      "2005/2     116\n",
      "2004/2     102\n",
      "2021/2      66\n",
      "2014/2      49\n",
      "2015/2      45\n",
      "2020/2      45\n",
      "2000/2      44\n",
      "2012/2      26\n",
      "2001/2      25\n",
      "2013/2      23\n",
      "2023/1      10\n",
      "2020/4       5\n",
      "2010/0       2\n",
      "2015/0       2\n",
      "2007/0       1\n",
      "2005/0       1\n",
      "2021/0       1\n",
      "Name: Admissao, dtype: int64\n",
      "\n",
      "\n",
      "Saida\n",
      "Variedade: 65\n",
      "Dados: \n",
      "0         13908\n",
      "2015/2     2604\n",
      "2014/2     2525\n",
      "2016/2     2385\n",
      "2013/2     2348\n",
      "          ...  \n",
      "2021/0        4\n",
      "2008/0        3\n",
      "2014/0        1\n",
      "2009/0        1\n",
      "2005/0        1\n",
      "Name: Saida, Length: 65, dtype: int64\n",
      "\n",
      "\n",
      "Codigo_Situacao_Aluno\n",
      "Variedade: 20\n",
      "Dados: \n",
      "C    31359\n",
      "A    16695\n",
      "N    13436\n",
      "D     6354\n",
      "M     5239\n",
      "T      364\n",
      "K      323\n",
      "Z       52\n",
      "G       49\n",
      "W       45\n",
      "F       41\n",
      "B       20\n",
      "X       18\n",
      "S        8\n",
      "I        6\n",
      "Y        6\n",
      "Q        4\n",
      "J        3\n",
      "R        2\n",
      "H        2\n",
      "Name: Codigo_Situacao_Aluno, dtype: int64\n",
      "\n",
      "\n",
      "Situacao_Aluno\n",
      "Variedade: 25\n",
      "Dados: \n",
      "Conclusão                                             31359\n",
      "Normal                                                13436\n",
      "Abandono                                              13139\n",
      "Desligamento                                           6354\n",
      "Mudança de Curso                                       5239\n",
      "Estudante em abandono de curso                         3556\n",
      "Transferência                                           364\n",
      "Trancamento                                             323\n",
      "Afastamento/Intercâmbio                                  49\n",
      "Trancamento por Motivo de Saúde                          48\n",
      "Afastamento Especial                                     45\n",
      "Falecimento                                              41\n",
      "Exclusão                                                 18\n",
      "Concluiu as exigências do curso (não colou grau)         16\n",
      "Anulação de Matrícula                                     8\n",
      "Afastamento                                               6\n",
      "Concluinte (relatório não analisado)                      6\n",
      "Matrícula Condicional/Reconsideração Desligamento         4\n",
      "Trancamento de Matrícula por Motivo de Saúde              4\n",
      "Matrícula Suspensa Temporariamente                        3\n",
      "Concluindo (não colou grau)                               2\n",
      "Habilitação                                               2\n",
      "Concluinte (não colou grau)                               2\n",
      "Reconsideração de Desligamento/Tramitação                 1\n",
      "Afastamento/Reconsideração de Desligamento                1\n",
      "Name: Situacao_Aluno, dtype: int64\n",
      "\n",
      "\n",
      "Situacao_Aluno_Agrupada\n",
      "Variedade: 4\n",
      "Dados: \n",
      "Conclusão      31385\n",
      "Evasão         28725\n",
      "Matriculado    11406\n",
      "Retenção        2510\n",
      "Name: Situacao_Aluno_Agrupada, dtype: int64\n",
      "\n",
      "\n",
      "Modalidade_Inscrita\n",
      "Variedade: 10\n",
      "Dados: \n",
      "0.0    32901\n",
      "9.0    19495\n",
      "1.0     4884\n",
      "5.0     4629\n",
      "3.0     3348\n",
      "7.0     3281\n",
      "8.0       86\n",
      "4.0       54\n",
      "6.0       45\n",
      "2.0       30\n",
      "Name: Modalidade_Inscrita, dtype: int64\n",
      "\n",
      "\n",
      "ENEM\n",
      "Variedade: 13187\n",
      "Dados: \n",
      "671.38    14\n",
      "646.34    13\n",
      "673.30    13\n",
      "666.04    13\n",
      "622.88    13\n",
      "          ..\n",
      "541.68     1\n",
      "509.88     1\n",
      "464.02     1\n",
      "449.30     1\n",
      "530.74     1\n",
      "Name: ENEM, Length: 13187, dtype: int64\n",
      "\n",
      "\n",
      "Num_Reprovacoes\n",
      "Variedade: 61\n",
      "Dados: \n",
      "0     21152\n",
      "1      7862\n",
      "2      5513\n",
      "3      4807\n",
      "5      4689\n",
      "      ...  \n",
      "46        1\n",
      "80        1\n",
      "56        1\n",
      "58        1\n",
      "57        1\n",
      "Name: Num_Reprovacoes, Length: 61, dtype: int64\n",
      "\n",
      "\n",
      "Raca\n",
      "Variedade: 6\n",
      "Dados: \n",
      "Branco(a)                    26897\n",
      "Informação não disponível    22373\n",
      "Pardo(a)                     18077\n",
      "Preto(a)                      5324\n",
      "Amarelo(a)                    1089\n",
      "Indígena                       266\n",
      "Name: Raca, dtype: int64\n",
      "\n",
      "\n",
      "CRA\n",
      "Variedade: 991\n",
      "Dados: \n",
      "0.0     3909\n",
      "79.2     238\n",
      "76.0     237\n",
      "76.6     236\n",
      "80.0     236\n",
      "        ... \n",
      "99.5       1\n",
      "99.3       1\n",
      "98.6       1\n",
      "98.3       1\n",
      "99.2       1\n",
      "Name: CRA, Length: 991, dtype: int64\n",
      "\n"
     ]
    }
   ],
   "source": [
    "for coluna in dados.columns:\n",
    "    print(f\"\\n{coluna}\\nVariedade: {dados[coluna].nunique()}\\nDados: \\n{dados[coluna].value_counts()}\\n\")"
   ],
   "metadata": {
    "collapsed": false,
    "ExecuteTime": {
     "end_time": "2023-05-26T02:28:25.940863900Z",
     "start_time": "2023-05-26T02:28:25.404709300Z"
    }
   }
  },
  {
   "cell_type": "markdown",
   "source": [
    "### Copiando os dados para um novo DataFrame"
   ],
   "metadata": {
    "collapsed": false
   }
  },
  {
   "cell_type": "code",
   "execution_count": 265,
   "outputs": [],
   "source": [
    "df = dados.copy()"
   ],
   "metadata": {
    "collapsed": false,
    "ExecuteTime": {
     "end_time": "2023-05-26T02:28:25.965271Z",
     "start_time": "2023-05-26T02:28:25.560769400Z"
    }
   }
  },
  {
   "cell_type": "markdown",
   "source": [
    "### Tratando a coluna 'Ano Nascimento'\n",
    "- Desscrição da coluna\n",
    "- Verificando outliers\n",
    "- Removendo outliers\n",
    "- Verificando se os outliers foram removidos\n",
    "- Verificando se possui valores nulos\n",
    "- Tratando valores nulos\n",
    "- Distribuição dos dados"
   ],
   "metadata": {
    "collapsed": false
   }
  },
  {
   "cell_type": "markdown",
   "source": [
    "#### Desscrição da coluna"
   ],
   "metadata": {
    "collapsed": false
   }
  },
  {
   "cell_type": "code",
   "execution_count": 266,
   "outputs": [
    {
     "data": {
      "text/plain": "count    73949.000000\nmean      1990.876442\nstd          8.366123\nmin       1900.000000\n25%       1986.000000\n50%       1992.000000\n75%       1997.000000\nmax       2022.000000\nName: Ano_Nascimento, dtype: float64"
     },
     "execution_count": 266,
     "metadata": {},
     "output_type": "execute_result"
    }
   ],
   "source": [
    "df['Ano_Nascimento'].describe()"
   ],
   "metadata": {
    "collapsed": false,
    "ExecuteTime": {
     "end_time": "2023-05-26T02:28:25.967825800Z",
     "start_time": "2023-05-26T02:28:25.578616100Z"
    }
   }
  },
  {
   "cell_type": "markdown",
   "source": [
    "#### Verificando outliers"
   ],
   "metadata": {
    "collapsed": false
   }
  },
  {
   "cell_type": "code",
   "execution_count": 267,
   "outputs": [
    {
     "data": {
      "text/plain": "<Axes: xlabel='Ano_Nascimento'>"
     },
     "execution_count": 267,
     "metadata": {},
     "output_type": "execute_result"
    },
    {
     "data": {
      "text/plain": "<Figure size 640x480 with 1 Axes>",
      "image/png": "[encoded data removed]"
     },
     "metadata": {},
     "output_type": "display_data"
    }
   ],
   "source": [
    "sns.boxplot(x=df['Ano_Nascimento'], color='red')"
   ],
   "metadata": {
    "collapsed": false,
    "ExecuteTime": {
     "end_time": "2023-05-26T02:28:25.967825800Z",
     "start_time": "2023-05-26T02:28:25.612376500Z"
    }
   }
  },
  {
   "cell_type": "markdown",
   "source": [
    "#### Removendo outliers"
   ],
   "metadata": {
    "collapsed": false
   }
  },
  {
   "cell_type": "code",
   "execution_count": 268,
   "outputs": [
    {
     "name": "stdout",
     "output_type": "stream",
     "text": [
      "Quantidade de outliers menores que 1930: 1\n",
      "Quantidade de outliers maiores que 2005: 4\n",
      "Outliers removidos!\n"
     ]
    }
   ],
   "source": [
    "# Quantidade de outliers\n",
    "\n",
    "menor1930 = df[df['Ano_Nascimento'] < 1930].shape[0]\n",
    "maior2005 = df[df['Ano_Nascimento'] > 2005].shape[0]\n",
    "\n",
    "print(f\"Quantidade de outliers menores que 1930: {menor1930}\")\n",
    "print(f\"Quantidade de outliers maiores que 2005: {maior2005}\")\n",
    "\n",
    "# Removendo outliers\n",
    "\n",
    "df = df.drop(df[df['Ano_Nascimento'] < 1930].index)\n",
    "df = df.drop(df[df['Ano_Nascimento'] > 2005].index)\n",
    "print(f\"Outliers removidos!\")"
   ],
   "metadata": {
    "collapsed": false,
    "ExecuteTime": {
     "end_time": "2023-05-26T02:28:26.166208400Z",
     "start_time": "2023-05-26T02:28:25.804969400Z"
    }
   }
  },
  {
   "cell_type": "markdown",
   "source": [
    "#### Verificando se os outliers foram removidos"
   ],
   "metadata": {
    "collapsed": false
   }
  },
  {
   "cell_type": "code",
   "execution_count": 269,
   "outputs": [
    {
     "data": {
      "text/plain": "<Axes: xlabel='Ano_Nascimento'>"
     },
     "execution_count": 269,
     "metadata": {},
     "output_type": "execute_result"
    },
    {
     "data": {
      "text/plain": "<Figure size 640x480 with 1 Axes>",
      "image/png": "[encoded data removed]"
     },
     "metadata": {},
     "output_type": "display_data"
    }
   ],
   "source": [
    "sns.boxplot(x=df['Ano_Nascimento'], color='red')"
   ],
   "metadata": {
    "collapsed": false,
    "ExecuteTime": {
     "end_time": "2023-05-26T02:28:26.239194300Z",
     "start_time": "2023-05-26T02:28:25.872635500Z"
    }
   }
  },
  {
   "cell_type": "markdown",
   "source": [
    "#### Verificando se possui valores nulos"
   ],
   "metadata": {
    "collapsed": false
   }
  },
  {
   "cell_type": "code",
   "execution_count": 270,
   "outputs": [
    {
     "name": "stdout",
     "output_type": "stream",
     "text": [
      "Quantidade de valores nulos: 77\n"
     ]
    }
   ],
   "source": [
    "qtdAnoNascimentoNulos = df['Ano_Nascimento'].isnull().sum()\n",
    "print(f\"Quantidade de valores nulos: {qtdAnoNascimentoNulos}\")"
   ],
   "metadata": {
    "collapsed": false,
    "ExecuteTime": {
     "end_time": "2023-05-26T02:28:26.271039400Z",
     "start_time": "2023-05-26T02:28:26.026173700Z"
    }
   }
  },
  {
   "cell_type": "markdown",
   "source": [
    "#### Tratando valores nulos (substituindo pela média)"
   ],
   "metadata": {
    "collapsed": false
   }
  },
  {
   "cell_type": "code",
   "execution_count": 271,
   "outputs": [
    {
     "name": "stdout",
     "output_type": "stream",
     "text": [
      "Quantidade de valores nulos: 0\n"
     ]
    }
   ],
   "source": [
    "df['Ano_Nascimento'].fillna(df['Ano_Nascimento'].mean(), inplace=True)\n",
    "qtdAnoNascimentoNulos = df['Ano_Nascimento'].isnull().sum()\n",
    "print(f\"Quantidade de valores nulos: {qtdAnoNascimentoNulos}\")"
   ],
   "metadata": {
    "collapsed": false,
    "ExecuteTime": {
     "end_time": "2023-05-26T02:28:26.271039400Z",
     "start_time": "2023-05-26T02:28:26.043341400Z"
    }
   }
  },
  {
   "cell_type": "markdown",
   "source": [
    "#### Distribuição dos dados"
   ],
   "metadata": {
    "collapsed": false
   }
  },
  {
   "cell_type": "code",
   "execution_count": 272,
   "outputs": [
    {
     "data": {
      "text/plain": "<Axes: xlabel='Ano_Nascimento', ylabel='Count'>"
     },
     "execution_count": 272,
     "metadata": {},
     "output_type": "execute_result"
    },
    {
     "data": {
      "text/plain": "<Figure size 640x480 with 1 Axes>",
      "image/png": "[encoded data removed]"
     },
     "metadata": {},
     "output_type": "display_data"
    }
   ],
   "source": [
    "sns.histplot(x=df['Ano_Nascimento'], color='red', kde=True)"
   ],
   "metadata": {
    "collapsed": false,
    "ExecuteTime": {
     "end_time": "2023-05-26T02:28:26.954496400Z",
     "start_time": "2023-05-26T02:28:26.057987100Z"
    }
   }
  },
  {
   "cell_type": "markdown",
   "source": [
    "### Tratamento da coluna 'Sexo'\n",
    "- Desscrição da coluna e gráfico de contagem\n",
    "- Verificando se possui valores nulos\n",
    "- Tratando valores nulos"
   ],
   "metadata": {
    "collapsed": false
   }
  },
  {
   "cell_type": "markdown",
   "source": [
    "#### Desscrição da coluna"
   ],
   "metadata": {
    "collapsed": false
   }
  },
  {
   "cell_type": "code",
   "execution_count": 273,
   "outputs": [
    {
     "data": {
      "text/plain": "count     73981\nunique        2\ntop           F\nfreq      37030\nName: Sexo, dtype: object"
     },
     "execution_count": 273,
     "metadata": {},
     "output_type": "execute_result"
    }
   ],
   "source": [
    "df['Sexo'].describe()"
   ],
   "metadata": {
    "collapsed": false,
    "ExecuteTime": {
     "end_time": "2023-05-26T02:28:27.034859900Z",
     "start_time": "2023-05-26T02:28:26.967386600Z"
    }
   }
  },
  {
   "cell_type": "code",
   "execution_count": 274,
   "outputs": [
    {
     "data": {
      "text/plain": "F    37030\nM    36951\nName: Sexo, dtype: int64"
     },
     "execution_count": 274,
     "metadata": {},
     "output_type": "execute_result"
    }
   ],
   "source": [
    "df['Sexo'].value_counts()"
   ],
   "metadata": {
    "collapsed": false,
    "ExecuteTime": {
     "end_time": "2023-05-26T02:28:27.034859900Z",
     "start_time": "2023-05-26T02:28:26.985419300Z"
    }
   }
  },
  {
   "cell_type": "code",
   "execution_count": 275,
   "outputs": [
    {
     "data": {
      "text/plain": "<Axes: xlabel='Sexo', ylabel='count'>"
     },
     "execution_count": 275,
     "metadata": {},
     "output_type": "execute_result"
    },
    {
     "data": {
      "text/plain": "<Figure size 640x480 with 1 Axes>",
      "image/png": "[encoded data removed]"
     },
     "metadata": {},
     "output_type": "display_data"
    }
   ],
   "source": [
    "sns.countplot(x=df['Sexo'], color='red', data=df, order=df['Sexo'].value_counts().index, orient='v', palette='Set2')"
   ],
   "metadata": {
    "collapsed": false,
    "ExecuteTime": {
     "end_time": "2023-05-26T02:28:27.243677300Z",
     "start_time": "2023-05-26T02:28:27.003755400Z"
    }
   }
  },
  {
   "cell_type": "markdown",
   "source": [
    "#### Verificando se possui valores nulos"
   ],
   "metadata": {
    "collapsed": false
   }
  },
  {
   "cell_type": "code",
   "execution_count": 276,
   "outputs": [
    {
     "name": "stdout",
     "output_type": "stream",
     "text": [
      "Quantidade de valores nulos: 40\n"
     ]
    }
   ],
   "source": [
    "qtdSexoNulos = df['Sexo'].isnull().sum()\n",
    "print(f\"Quantidade de valores nulos: {qtdSexoNulos}\")"
   ],
   "metadata": {
    "collapsed": false,
    "ExecuteTime": {
     "end_time": "2023-05-26T02:28:27.255989600Z",
     "start_time": "2023-05-26T02:28:27.231480500Z"
    }
   }
  },
  {
   "cell_type": "code",
   "execution_count": 277,
   "outputs": [
    {
     "name": "stdout",
     "output_type": "stream",
     "text": [
      "Quantidade de valores nulos: 0\n"
     ]
    },
    {
     "data": {
      "text/plain": "F                37030\nM                36951\nNão informado       40\nName: Sexo, dtype: int64"
     },
     "execution_count": 277,
     "metadata": {},
     "output_type": "execute_result"
    }
   ],
   "source": [
    "df['Sexo'].fillna('Não informado', inplace=True)\n",
    "qtdSexoNulos = df['Sexo'].isnull().sum()\n",
    "print(f\"Quantidade de valores nulos: {qtdSexoNulos}\")\n",
    "\n",
    "df['Sexo'].value_counts()"
   ],
   "metadata": {
    "collapsed": false,
    "ExecuteTime": {
     "end_time": "2023-05-26T02:28:27.415887900Z",
     "start_time": "2023-05-26T02:28:27.249633Z"
    }
   }
  },
  {
   "cell_type": "markdown",
   "source": [
    "#### Tratando a coluna 'Campus'\n",
    "- Desscrição da coluna e gráfico de contagem\n",
    "- Verificando se possui valores nulos\n",
    "- Tratando valores nulos\n",
    "- Distribuição dos dados"
   ],
   "metadata": {
    "collapsed": false
   }
  },
  {
   "cell_type": "markdown",
   "source": [
    "#### Desscrição da coluna"
   ],
   "metadata": {
    "collapsed": false
   }
  },
  {
   "cell_type": "code",
   "execution_count": 278,
   "outputs": [
    {
     "data": {
      "text/plain": "count     74021\nunique        3\ntop         CAV\nfreq      60335\nName: Campus, dtype: object"
     },
     "execution_count": 278,
     "metadata": {},
     "output_type": "execute_result"
    }
   ],
   "source": [
    "df['Campus'].describe()"
   ],
   "metadata": {
    "collapsed": false,
    "ExecuteTime": {
     "end_time": "2023-05-26T02:28:27.429737600Z",
     "start_time": "2023-05-26T02:28:27.281614100Z"
    }
   }
  },
  {
   "cell_type": "code",
   "execution_count": 279,
   "outputs": [
    {
     "data": {
      "text/plain": "CAV    60335\nCRP     8412\nCAF     5274\nName: Campus, dtype: int64"
     },
     "execution_count": 279,
     "metadata": {},
     "output_type": "execute_result"
    }
   ],
   "source": [
    "df['Campus'].value_counts()"
   ],
   "metadata": {
    "collapsed": false,
    "ExecuteTime": {
     "end_time": "2023-05-26T02:28:27.429737600Z",
     "start_time": "2023-05-26T02:28:27.320796600Z"
    }
   }
  },
  {
   "cell_type": "code",
   "execution_count": 280,
   "outputs": [
    {
     "data": {
      "text/plain": "<Axes: xlabel='Campus', ylabel='count'>"
     },
     "execution_count": 280,
     "metadata": {},
     "output_type": "execute_result"
    },
    {
     "data": {
      "text/plain": "<Figure size 640x480 with 1 Axes>",
      "image/png": "[encoded data removed]"
     },
     "metadata": {},
     "output_type": "display_data"
    }
   ],
   "source": [
    "sns.countplot(x=df['Campus'], color='red', data=df, order=df['Campus'].value_counts().index, orient='v', palette='Set2')"
   ],
   "metadata": {
    "collapsed": false,
    "ExecuteTime": {
     "end_time": "2023-05-26T02:28:27.579582500Z",
     "start_time": "2023-05-26T02:28:27.353911900Z"
    }
   }
  },
  {
   "cell_type": "markdown",
   "source": [
    "#### Verificando se possui valores nulos"
   ],
   "metadata": {
    "collapsed": false
   }
  },
  {
   "cell_type": "code",
   "execution_count": 281,
   "outputs": [
    {
     "name": "stdout",
     "output_type": "stream",
     "text": [
      "Quantidade de valores nulos: 0\n"
     ]
    }
   ],
   "source": [
    "qtdCampusNulos = df['Campus'].isnull().sum()\n",
    "print(f\"Quantidade de valores nulos: {qtdCampusNulos}\")"
   ],
   "metadata": {
    "collapsed": false,
    "ExecuteTime": {
     "end_time": "2023-05-26T02:28:27.626711300Z",
     "start_time": "2023-05-26T02:28:27.571121700Z"
    }
   }
  },
  {
   "cell_type": "markdown",
   "source": [
    "#### Tratando valores nulos"
   ],
   "metadata": {
    "collapsed": false
   }
  },
  {
   "cell_type": "code",
   "execution_count": 282,
   "outputs": [
    {
     "name": "stdout",
     "output_type": "stream",
     "text": [
      "A coluna 'Campus' não possui valores nulos!\n"
     ]
    }
   ],
   "source": [
    "print(\"A coluna 'Campus' não possui valores nulos!\")"
   ],
   "metadata": {
    "collapsed": false,
    "ExecuteTime": {
     "end_time": "2023-05-26T02:28:27.647561100Z",
     "start_time": "2023-05-26T02:28:27.586669400Z"
    }
   }
  },
  {
   "cell_type": "markdown",
   "source": [
    "### Tratamento da coluna 'Curso_Identificador'\n",
    "- Desscrição da coluna e gráfico de contagem\n",
    "- Verificando se possui valores nulos\n",
    "- Tratando valores nulos\n",
    "- Tratando valores irrelevantes"
   ],
   "metadata": {
    "collapsed": false
   }
  },
  {
   "cell_type": "markdown",
   "source": [
    "#### Desscrição da coluna"
   ],
   "metadata": {
    "collapsed": false
   }
  },
  {
   "cell_type": "code",
   "execution_count": 283,
   "outputs": [
    {
     "data": {
      "text/plain": "1103    5787\n1121    1974\n1113    1651\n1132    1637\n1114    1627\n        ... \n1424     243\n1154     217\n1418     205\n2102     160\n1423       1\nName: Curso_Identificador, Length: 79, dtype: int64"
     },
     "execution_count": 283,
     "metadata": {},
     "output_type": "execute_result"
    }
   ],
   "source": [
    "df['Curso_Identificador'].value_counts()"
   ],
   "metadata": {
    "collapsed": false,
    "ExecuteTime": {
     "end_time": "2023-05-26T02:28:27.801050400Z",
     "start_time": "2023-05-26T02:28:27.601881900Z"
    }
   }
  },
  {
   "cell_type": "code",
   "execution_count": 284,
   "outputs": [
    {
     "data": {
      "text/plain": "<Figure size 2000x1000 with 1 Axes>",
      "image/png": "[encoded data removed]"
     },
     "metadata": {},
     "output_type": "display_data"
    }
   ],
   "source": [
    "cursosCountPlot = sns.countplot(x=df['Curso_Identificador'], color='red', data=df,\n",
    "                   order=df['Curso_Identificador'].value_counts().index,\n",
    "                   orient='v', palette='Set2')\n",
    "\n",
    "cursosCountPlot.set_xticklabels(cursosCountPlot.get_xticklabels(), rotation=90)\n",
    "cursosCountPlot.figure.set_size_inches(20, 10)"
   ],
   "metadata": {
    "collapsed": false,
    "ExecuteTime": {
     "end_time": "2023-05-26T02:28:28.660973800Z",
     "start_time": "2023-05-26T02:28:27.626711300Z"
    }
   }
  },
  {
   "cell_type": "markdown",
   "source": [
    "#### Verificando se possui valores nulos"
   ],
   "metadata": {
    "collapsed": false
   }
  },
  {
   "cell_type": "code",
   "execution_count": 285,
   "outputs": [
    {
     "name": "stdout",
     "output_type": "stream",
     "text": [
      "Quantidade de valores nulos: 0\n"
     ]
    }
   ],
   "source": [
    "qtdCursoIdentificadorNulos = df['Curso_Identificador'].isnull().sum()\n",
    "print(f\"Quantidade de valores nulos: {qtdCursoIdentificadorNulos}\")"
   ],
   "metadata": {
    "collapsed": false,
    "ExecuteTime": {
     "end_time": "2023-05-26T02:28:28.662778500Z",
     "start_time": "2023-05-26T02:28:28.644825Z"
    }
   }
  },
  {
   "cell_type": "markdown",
   "source": [
    "#### Tratando valores nulos"
   ],
   "metadata": {
    "collapsed": false
   }
  },
  {
   "cell_type": "code",
   "execution_count": 286,
   "outputs": [
    {
     "name": "stdout",
     "output_type": "stream",
     "text": [
      "A coluna 'Curso_Identificador' não possui valores nulos!\n"
     ]
    }
   ],
   "source": [
    "print(\"A coluna 'Curso_Identificador' não possui valores nulos!\")"
   ],
   "metadata": {
    "collapsed": false,
    "ExecuteTime": {
     "end_time": "2023-05-26T02:28:28.678641200Z",
     "start_time": "2023-05-26T02:28:28.651202400Z"
    }
   }
  },
  {
   "cell_type": "markdown",
   "source": [
    "#### Tratando valores irrelevantes"
   ],
   "metadata": {
    "collapsed": false
   }
  },
  {
   "cell_type": "code",
   "execution_count": 287,
   "outputs": [
    {
     "data": {
      "text/plain": "      Identificador  Ano_Nascimento Sexo Campus  Curso_Identificador  \\\n1553          20399          1970.0    M    CAV                 1423   \n\n                             Curso UF_Nascimento Municipio_Nascimento  \\\n1553  CAV - LICENCIATURA EM FISICA            MG  SAO JOAO DO PARAISO   \n\n     Admissao   Saida Codigo_Situacao_Aluno  \\\n1553   2000/2  2003/1                     C   \n\n                                         Situacao_Aluno  \\\n1553  Conclusão                                     ...   \n\n     Situacao_Aluno_Agrupada  Modalidade_Inscrita  ENEM  Num_Reprovacoes  \\\n1553               Conclusão                  NaN   NaN                0   \n\n                           Raca   CRA  \n1553  Informação não disponível  75.0  ",
      "text/html": "<div>\n<style scoped>\n    .dataframe tbody tr th:only-of-type {\n        vertical-align: middle;\n    }\n\n    .dataframe tbody tr th {\n        vertical-align: top;\n    }\n\n    .dataframe thead th {\n        text-align: right;\n    }\n</style>\n<table border=\"1\" class=\"dataframe\">\n  <thead>\n    <tr style=\"text-align: right;\">\n      <th></th>\n      <th>Identificador</th>\n      <th>Ano_Nascimento</th>\n      <th>Sexo</th>\n      <th>Campus</th>\n      <th>Curso_Identificador</th>\n      <th>Curso</th>\n      <th>UF_Nascimento</th>\n      <th>Municipio_Nascimento</th>\n      <th>Admissao</th>\n      <th>Saida</th>\n      <th>Codigo_Situacao_Aluno</th>\n      <th>Situacao_Aluno</th>\n      <th>Situacao_Aluno_Agrupada</th>\n      <th>Modalidade_Inscrita</th>\n      <th>ENEM</th>\n      <th>Num_Reprovacoes</th>\n      <th>Raca</th>\n      <th>CRA</th>\n    </tr>\n  </thead>\n  <tbody>\n    <tr>\n      <th>1553</th>\n      <td>20399</td>\n      <td>1970.0</td>\n      <td>M</td>\n      <td>CAV</td>\n      <td>1423</td>\n      <td>CAV - LICENCIATURA EM FISICA</td>\n      <td>MG</td>\n      <td>SAO JOAO DO PARAISO</td>\n      <td>2000/2</td>\n      <td>2003/1</td>\n      <td>C</td>\n      <td>Conclusão                                     ...</td>\n      <td>Conclusão</td>\n      <td>NaN</td>\n      <td>NaN</td>\n      <td>0</td>\n      <td>Informação não disponível</td>\n      <td>75.0</td>\n    </tr>\n  </tbody>\n</table>\n</div>"
     },
     "metadata": {},
     "output_type": "display_data"
    },
    {
     "name": "stdout",
     "output_type": "stream",
     "text": [
      "Curso removido!\n"
     ]
    }
   ],
   "source": [
    "# Há um curso que possui apenas 1 aluno, então iremos remover esse curso\n",
    "\n",
    "# Verificando a linha do curso que possui apenas 1 aluno\n",
    "display(df[df['Curso_Identificador'] == 1423])\n",
    "\n",
    "# Removendo o curso\n",
    "df = df.drop(df[df['Curso_Identificador'] == 1423].index)\n",
    "print(\"Curso removido!\")"
   ],
   "metadata": {
    "collapsed": false,
    "ExecuteTime": {
     "end_time": "2023-05-26T02:28:28.931391500Z",
     "start_time": "2023-05-26T02:28:28.671407300Z"
    }
   }
  },
  {
   "cell_type": "markdown",
   "source": [],
   "metadata": {
    "collapsed": false
   }
  },
  {
   "cell_type": "markdown",
   "source": [
    "### Tratando a coluna 'Curso'\n",
    "- Desscrição da coluna\n",
    "- Tratamento dos nomes dos cursos\n",
    "- Verificando se possui valores nulos\n",
    "- Tratando valores nulos\n",
    "- Tratando valores irrelevantes\n",
    "\n"
   ],
   "metadata": {
    "collapsed": false
   }
  },
  {
   "cell_type": "markdown",
   "source": [
    "#### Desscrição da coluna"
   ],
   "metadata": {
    "collapsed": false
   }
  },
  {
   "cell_type": "code",
   "execution_count": 294,
   "outputs": [
    {
     "data": {
      "text/plain": "count               74020\nunique                 92\ntop       CAV - Agronomia\nfreq                 5787\nName: Curso, dtype: object"
     },
     "execution_count": 294,
     "metadata": {},
     "output_type": "execute_result"
    }
   ],
   "source": [
    "df['Curso'].describe()"
   ],
   "metadata": {
    "collapsed": false,
    "ExecuteTime": {
     "end_time": "2023-05-26T02:29:09.606694Z",
     "start_time": "2023-05-26T02:29:09.562221600Z"
    }
   }
  },
  {
   "cell_type": "markdown",
   "source": [
    "#### Tratamento dos nomes dos cursos\n",
    "\n",
    "##### Nesta seção foram feitas diversas análises acerca dos nomes dos cursos, comparando com os nomes reais e tratando nomes que estavam incorretos"
   ],
   "metadata": {
    "collapsed": false
   }
  },
  {
   "cell_type": "code",
   "execution_count": 290,
   "outputs": [
    {
     "data": {
      "text/plain": "{1101: 'CAV - Administração',\n 1102: 'CAV - Engenharia de Agrimensura e Cartográfica',\n 1103: 'CAV - Agronomia',\n 1104: 'CAV - Ciências Contábeis',\n 1105: 'CAV - Ciências Econômicas - Ênfase em Agronegócio',\n 1106: 'CAV - Engenharia Ambiental',\n 1107: 'CAV - Engenharia de Produção',\n 1108: 'CAV - Ciências Econômicas',\n 1109: 'CAV - Economia Doméstica',\n 1110: 'CAV - Educação Física',\n 1111: 'CAV - Engenharia Agrícola e Ambiental',\n 1112: 'CAV - Engenharia Civil',\n 1113: 'CAV - Engenharia Florestal',\n 1114: 'CAV - Engenharia de Alimentos',\n 1116: 'CAV - Medicina Veterinária',\n 1117: 'CAV - Nutrição',\n 1118: 'CAV - Pedagogia',\n 1120: 'CAV - Ciência e Tecnologia de Laticínios',\n 1122: 'CAV - Ciências Biológicas',\n 1123: 'CAV - Física',\n 1124: 'CAV - Matemática',\n 1121: 'CAV - Zootecnia',\n 1125: 'CAV - Química',\n 1127: 'CAV - Direito',\n 1128: 'CAV - Arquitetura e Urbanismo',\n 1130: 'CAV - Letras',\n 1137: 'CAV - Secretariado Executivo Trilíngue, Português, Francês, Inglês',\n 1140: 'CAV - Cooperativismo',\n 1141: 'CAV - Ciência da Computação',\n 1126: 'CAV - Bioquímica',\n 1129: 'CAV - Comunicação Social',\n 1131: 'CAV - Engenharia Elétrica',\n 1132: 'CAV - Geografia',\n 1134: 'CAV - História',\n 1135: 'CAV - Dança',\n 1418: 'CAV - Licenciatura em Pedagogia',\n 1419: 'CAV - Normal Superior',\n 1138: 'CAV - Educação Infantil',\n 1401: 'CAV - Administração',\n 1139: 'CAV - Engenharia Química',\n 1142: 'CAV - Engenharia Mecânica',\n 3101: 'CRP - Administração - Integral',\n 3102: 'CRP - Administração - Noturno',\n 3103: 'CRP - Agronomia',\n 2101: 'CAF - Tecnologia em Gestão Ambiental',\n 2102: 'CAF - Tecnologia em Análise e Desenvolvimento de Sistemas',\n 3104: 'CRP - Sistemas de Informação - Integral',\n 3105: 'CRP - Sistemas de Informação - Noturno',\n 3106: 'CRP - Ciência e Tecnologia de Alimentos',\n 1143: 'CAV - Licenciatura em Física',\n 1144: 'CAV - Licenciatura em Matemática',\n 1145: 'CAV - Licenciatura em Química',\n 1146: 'CAV - Licenciatura em Ciências Biológicas',\n 1147: 'CAV - Ciências Sociais',\n 1148: 'CAV - Enfermagem',\n 2144: 'CAF - Matemática - Licenciatura',\n 2145: 'CAF - Química - Licenciatura',\n 2146: 'CAF - Ciências Biológicas - Licenciatura',\n 2143: 'CAF - Física - Licenciatura',\n 3107: 'CRP - Química',\n 3108: 'CRP - Engenharia Civil',\n 3109: 'CRP - Ciências Contábeis',\n 1150: 'CAV - Medicina',\n 2103: 'CAF - Agronomia',\n 2104: 'CAF - Engenharia de Alimentos',\n 2105: 'CAF - Educação Física - Licenciatura',\n 3110: 'CRP - Ciências Biológicas',\n 3111: 'CRP - Engenharia de Produção',\n 3112: 'CRP - Nutrição',\n 1424: 'CAV - Licenciatura em Matemática - EAD',\n 1434: 'CAV - Licenciatura em História - EAD',\n 2106: 'CAF - Administração',\n 2107: 'CAF - Ciência da Computação',\n 1149: 'CAV - Agronegócio',\n 1151: 'CAV - Licenciatura em Educação do Campo - Ciências da Natureza',\n 1152: 'CAV - Serviço Social',\n 1153: 'CAV - Bacharelado em Educação Física',\n 1154: 'CAV - Licenciatura em Educação Física'}"
     },
     "metadata": {},
     "output_type": "display_data"
    }
   ],
   "source": [
    "# Assossiando o identificador do curso ao nome do curso para facilitar a visualização dos dados\n",
    "\n",
    "cursosDict = dict(zip(df['Curso_Identificador'], df['Curso']))\n",
    "display(cursosDict)"
   ],
   "metadata": {
    "collapsed": false,
    "ExecuteTime": {
     "end_time": "2023-05-26T02:28:28.931391500Z",
     "start_time": "2023-05-26T02:28:28.763682400Z"
    }
   }
  },
  {
   "cell_type": "code",
   "execution_count": 291,
   "outputs": [
    {
     "data": {
      "text/plain": "CAV - Agronomia                                                       5787\nCAV - Administração                                                   1981\nCAV - Zootecnia                                                       1974\nCAV - Engenharia Florestal                                            1651\nCAV - Geografia                                                       1637\n                                                                      ... \nCAF - Química - Licenciatura                                            96\nCAF - Física - Licenciatura                                             83\nCAV - Administração - Habilitação em Administração de Cooperativas      35\nCAV - LETRAS                                                            10\nCAV - Biologia                                                           1\nName: Curso, Length: 92, dtype: int64"
     },
     "execution_count": 291,
     "metadata": {},
     "output_type": "execute_result"
    }
   ],
   "source": [
    "# Quantidade de alunos por curso\n",
    "\n",
    "df['Curso'].value_counts()"
   ],
   "metadata": {
    "collapsed": false,
    "ExecuteTime": {
     "end_time": "2023-05-26T02:28:28.931391500Z",
     "start_time": "2023-05-26T02:28:28.799471500Z"
    }
   }
  },
  {
   "cell_type": "code",
   "execution_count": 292,
   "outputs": [
    {
     "data": {
      "text/plain": "                                                Curso  Quantidade\n0                                 CAF - Administração         790\n1                                     CAF - Agronomia         651\n2                         CAF - Ciência da Computação         574\n3                           CAF - Ciências Biológicas         248\n4            CAF - Ciências Biológicas - Licenciatura         145\n..                                                ...         ...\n87                                      CRP - Química         347\n88            CRP - Sistemas de Informação - Integral         516\n89  CRP - Sistemas de Informação - Integral       ...         172\n90             CRP - Sistemas de Informação - Noturno         548\n91  CRP - Sistemas de Informação - Noturno        ...         212\n\n[92 rows x 2 columns]",
      "text/html": "<div>\n<style scoped>\n    .dataframe tbody tr th:only-of-type {\n        vertical-align: middle;\n    }\n\n    .dataframe tbody tr th {\n        vertical-align: top;\n    }\n\n    .dataframe thead th {\n        text-align: right;\n    }\n</style>\n<table border=\"1\" class=\"dataframe\">\n  <thead>\n    <tr style=\"text-align: right;\">\n      <th></th>\n      <th>Curso</th>\n      <th>Quantidade</th>\n    </tr>\n  </thead>\n  <tbody>\n    <tr>\n      <th>0</th>\n      <td>CAF - Administração</td>\n      <td>790</td>\n    </tr>\n    <tr>\n      <th>1</th>\n      <td>CAF - Agronomia</td>\n      <td>651</td>\n    </tr>\n    <tr>\n      <th>2</th>\n      <td>CAF - Ciência da Computação</td>\n      <td>574</td>\n    </tr>\n    <tr>\n      <th>3</th>\n      <td>CAF - Ciências Biológicas</td>\n      <td>248</td>\n    </tr>\n    <tr>\n      <th>4</th>\n      <td>CAF - Ciências Biológicas - Licenciatura</td>\n      <td>145</td>\n    </tr>\n    <tr>\n      <th>...</th>\n      <td>...</td>\n      <td>...</td>\n    </tr>\n    <tr>\n      <th>87</th>\n      <td>CRP - Química</td>\n      <td>347</td>\n    </tr>\n    <tr>\n      <th>88</th>\n      <td>CRP - Sistemas de Informação - Integral</td>\n      <td>516</td>\n    </tr>\n    <tr>\n      <th>89</th>\n      <td>CRP - Sistemas de Informação - Integral       ...</td>\n      <td>172</td>\n    </tr>\n    <tr>\n      <th>90</th>\n      <td>CRP - Sistemas de Informação - Noturno</td>\n      <td>548</td>\n    </tr>\n    <tr>\n      <th>91</th>\n      <td>CRP - Sistemas de Informação - Noturno        ...</td>\n      <td>212</td>\n    </tr>\n  </tbody>\n</table>\n<p>92 rows × 2 columns</p>\n</div>"
     },
     "execution_count": 292,
     "metadata": {},
     "output_type": "execute_result"
    }
   ],
   "source": [
    "# Ordenando os cursos por ordem alfabética para facilitar a visualização dos dados\n",
    "\n",
    "dfCurso = df['Curso'].value_counts().sort_index()\n",
    "dfCurso = pd.DataFrame(dfCurso)\n",
    "dfCurso = dfCurso.reset_index()\n",
    "dfCurso.columns = ['Curso', 'Quantidade']\n",
    "dfCurso\n"
   ],
   "metadata": {
    "collapsed": false,
    "ExecuteTime": {
     "end_time": "2023-05-26T02:28:28.931391500Z",
     "start_time": "2023-05-26T02:28:28.810090200Z"
    }
   }
  },
  {
   "cell_type": "code",
   "execution_count": 293,
   "outputs": [],
   "source": [
    "#UFV CAF\n",
    "\n",
    "# biologicas, fisica, educaçao fisica, quimica\n",
    "#\n",
    "# UFV CAV\n",
    "# A - ADM, Falta- Agronomia\n",
    "# B - Educação Física, Biologia -> ciencias biologicas,\n",
    "# C - enfase economia\n",
    "# E - agrimensura\n",
    "# G - gestao de cooperativas e agronegocio\n",
    "# L - LETRAS, licenciatura em edf, EAD e nao EAD, Pedagogia,\n",
    "\n",
    "# CRP\n",
    "\n",
    "# integral e noturno errado\n"
   ],
   "metadata": {
    "collapsed": false,
    "ExecuteTime": {
     "end_time": "2023-05-26T02:28:28.931391500Z",
     "start_time": "2023-05-26T02:28:28.841406700Z"
    }
   }
  },
  {
   "cell_type": "code",
   "execution_count": 293,
   "outputs": [],
   "source": [],
   "metadata": {
    "collapsed": false,
    "ExecuteTime": {
     "end_time": "2023-05-26T02:28:28.931391500Z",
     "start_time": "2023-05-26T02:28:28.858233Z"
    }
   }
  }
 ],
 "metadata": {
  "kernelspec": {
   "display_name": "Python 3 (ipykernel)",
   "language": "python",
   "name": "python3"
  },
  "language_info": {
   "codemirror_mode": {
    "name": "ipython",
    "version": 3
   },
   "file_extension": ".py",
   "mimetype": "text/x-python",
   "name": "python",
   "nbconvert_exporter": "python",
   "pygments_lexer": "ipython3",
   "version": "3.11.2"
  }
 },
 "nbformat": 4,
 "nbformat_minor": 5
}
